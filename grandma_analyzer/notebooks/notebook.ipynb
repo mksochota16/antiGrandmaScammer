{
 "cells": [
  {
   "cell_type": "code",
   "execution_count": 51,
   "metadata": {
    "ExecuteTime": {
     "start_time": "2023-06-14T22:36:41.843966Z",
     "end_time": "2023-06-14T22:36:41.904387Z"
    },
    "collapsed": true
   },
   "outputs": [],
   "source": [
    "import pandas as pd\n",
    "from sklearn.model_selection import train_test_split\n",
    "from sklearn.metrics import accuracy_score, precision_score, recall_score, f1_score\n",
    "import matplotlib.pyplot as plt\n",
    "import seaborn as sns\n",
    "\n",
    "\n",
    "from sklearn.neural_network import MLPClassifier\n",
    "from sklearn.neighbors import KNeighborsClassifier\n",
    "from sklearn.svm import SVC\n",
    "from sklearn.gaussian_process import GaussianProcessClassifier\n",
    "from sklearn.gaussian_process.kernels import RBF\n",
    "from sklearn.tree import DecisionTreeClassifier\n",
    "from sklearn.ensemble import RandomForestClassifier, AdaBoostClassifier\n",
    "from sklearn.naive_bayes import GaussianNB, ComplementNB, MultinomialNB, BernoulliNB, CategoricalNB\n",
    "from sklearn.discriminant_analysis import QuadraticDiscriminantAnalysis"
   ]
  },
  {
   "cell_type": "code",
   "execution_count": 52,
   "metadata": {
    "ExecuteTime": {
     "start_time": "2023-06-14T22:36:42.531745Z",
     "end_time": "2023-06-14T22:36:42.556512Z"
    },
    "collapsed": false
   },
   "outputs": [],
   "source": [
    "AVAILABLE_MODELS = {\n",
    "    'DECISION_TREE': DecisionTreeClassifier(),\n",
    "    'RANDOM_FOREST': RandomForestClassifier(n_estimators=100),\n",
    "    'NEURAL_NETWORK': MLPClassifier(max_iter=1000),\n",
    "    'K_NEIGHBORS': KNeighborsClassifier(),\n",
    "    'SUPPORT_VECTOR_MACHINE': SVC(),\n",
    "    #'GAUSSIAN_PROCESS': GaussianProcessClassifier(1.0 * RBF(1.0)), # to trwa tak z 2 lata nauka, wywalam xD\n",
    "    'ADABOOST': AdaBoostClassifier(learning_rate=0.55),\n",
    "    'NAIVE_BAYES': GaussianNB(),\n",
    "    'QUADRATIC_DISCRIMINANT_ANALYSIS': QuadraticDiscriminantAnalysis()\n",
    "}"
   ]
  },
  {
   "cell_type": "code",
   "execution_count": 53,
   "metadata": {
    "ExecuteTime": {
     "start_time": "2023-06-14T22:36:43.566119Z",
     "end_time": "2023-06-14T22:36:43.623438Z"
    },
    "collapsed": false
   },
   "outputs": [],
   "source": [
    "def build_model_return_predictions(model, train_samples, train_classes, test_samples):\n",
    "    classifier = model.fit(train_samples, train_classes)\n",
    "    return classifier.predict(test_samples), classifier\n",
    "\n",
    "def calculate_metrics(y_true, y_pred):\n",
    "    metrics = {}\n",
    "    metrics['accuracy'] = accuracy_score(y_true, y_pred)\n",
    "    metrics['precision'] = precision_score(y_true, y_pred)\n",
    "    metrics['recall'] = recall_score(y_true, y_pred)\n",
    "    metrics['f1_score'] = f1_score(y_true, y_pred)\n",
    "    return metrics"
   ]
  },
  {
   "cell_type": "code",
   "execution_count": 54,
   "metadata": {
    "ExecuteTime": {
     "start_time": "2023-06-14T22:36:44.893582Z",
     "end_time": "2023-06-14T22:36:45.002201Z"
    },
    "collapsed": false
   },
   "outputs": [
    {
     "data": {
      "text/plain": "        tld                              registrar registrant_country  \\\n0      shop       Registrar of domain names REG.RU                 RU   \n1       com                          NameSilo, LLC                 US   \n2       com                          NameSilo, LLC                 US   \n3       com                          NameSilo, LLC                 US   \n4       com                          NameSilo, LLC                 US   \n...     ...                                    ...                ...   \n11108   xyz  Registrar of Domain Names REG.RU, LLC                 PL   \n11109   xyz  Registrar of Domain Names REG.RU, LLC                 PL   \n11110  site                          Name.com, Inc                 UA   \n11111  site                          Name.com, Inc                 UA   \n11112   xyz                          Name.com, Inc                 UA   \n\n       domain_age nameserver_domain   mail_domain  tls_age  tls_issuer  \\\n0             5.0            reg.ru        reg.ru      5.0          R3   \n1            89.0    cloudflare.com  namesilo.com      NaN         NaN   \n2            89.0    cloudflare.com  namesilo.com      7.0          E1   \n3            89.0    cloudflare.com  namesilo.com      6.0  GTS CA 1P5   \n4            89.0    cloudflare.com  namesilo.com      6.0          E1   \n...           ...               ...           ...      ...         ...   \n11108         1.0    cloudflare.com        reg.ru      NaN         NaN   \n11109         1.0    cloudflare.com        reg.ru      1.0  GTS CA 1P5   \n11110       253.0          name.com      name.com      NaN         NaN   \n11111       253.0          name.com      name.com      NaN         NaN   \n11112       296.0          name.com      name.com      NaN         NaN   \n\n       url_len  parameters_len  ...  opening_bracket_percent  \\\n0           21               0  ...                      0.0   \n1           21               0  ...                      0.0   \n2          197             154  ...                      0.0   \n3          210             154  ...                      0.0   \n4          206             154  ...                      0.0   \n...        ...             ...  ...                      ...   \n11108       34               0  ...                      0.0   \n11109       43               0  ...                      0.0   \n11110       32               0  ...                      0.0   \n11111       33               0  ...                      0.0   \n11112       31               0  ...                      0.0   \n\n       closing_bracket_percent  comma_percent  numbers_percent  url_entropy  \\\n0                          0.0            0.0                0     3.558519   \n1                          0.0            0.0                0     3.594466   \n2                          0.0            0.0               60     4.897371   \n3                          0.0            0.0               56     4.990006   \n4                          0.0            0.0               64     4.966357   \n...                        ...            ...              ...          ...   \n11108                      0.0            0.0                8     4.079679   \n11109                      0.0            0.0               10     4.518833   \n11110                      0.0            0.0                0     3.965018   \n11111                      0.0            0.0                0     4.089552   \n11112                      0.0            0.0                1     4.171465   \n\n       is_redirect  subdomain_count  content_link_count  content_img_count  \\\n0             True                2                44.0               17.0   \n1            False                2                 0.0                0.0   \n2             True                2                 0.0                0.0   \n3             True                2                 0.0                0.0   \n4             True                2                 0.0                0.0   \n...            ...              ...                 ...                ...   \n11108         True                3                 1.0                1.0   \n11109        False                3                 0.0                0.0   \n11110        False                3                 0.0                8.0   \n11111        False                3                 0.0                8.0   \n11112        False                3                 0.0                8.0   \n\n              label  \n0      illegitimate  \n1      illegitimate  \n2      illegitimate  \n3      illegitimate  \n4      illegitimate  \n...             ...  \n11108  illegitimate  \n11109  illegitimate  \n11110  illegitimate  \n11111  illegitimate  \n11112  illegitimate  \n\n[11113 rows x 29 columns]",
      "text/html": "<div>\n<style scoped>\n    .dataframe tbody tr th:only-of-type {\n        vertical-align: middle;\n    }\n\n    .dataframe tbody tr th {\n        vertical-align: top;\n    }\n\n    .dataframe thead th {\n        text-align: right;\n    }\n</style>\n<table border=\"1\" class=\"dataframe\">\n  <thead>\n    <tr style=\"text-align: right;\">\n      <th></th>\n      <th>tld</th>\n      <th>registrar</th>\n      <th>registrant_country</th>\n      <th>domain_age</th>\n      <th>nameserver_domain</th>\n      <th>mail_domain</th>\n      <th>tls_age</th>\n      <th>tls_issuer</th>\n      <th>url_len</th>\n      <th>parameters_len</th>\n      <th>...</th>\n      <th>opening_bracket_percent</th>\n      <th>closing_bracket_percent</th>\n      <th>comma_percent</th>\n      <th>numbers_percent</th>\n      <th>url_entropy</th>\n      <th>is_redirect</th>\n      <th>subdomain_count</th>\n      <th>content_link_count</th>\n      <th>content_img_count</th>\n      <th>label</th>\n    </tr>\n  </thead>\n  <tbody>\n    <tr>\n      <th>0</th>\n      <td>shop</td>\n      <td>Registrar of domain names REG.RU</td>\n      <td>RU</td>\n      <td>5.0</td>\n      <td>reg.ru</td>\n      <td>reg.ru</td>\n      <td>5.0</td>\n      <td>R3</td>\n      <td>21</td>\n      <td>0</td>\n      <td>...</td>\n      <td>0.0</td>\n      <td>0.0</td>\n      <td>0.0</td>\n      <td>0</td>\n      <td>3.558519</td>\n      <td>True</td>\n      <td>2</td>\n      <td>44.0</td>\n      <td>17.0</td>\n      <td>illegitimate</td>\n    </tr>\n    <tr>\n      <th>1</th>\n      <td>com</td>\n      <td>NameSilo, LLC</td>\n      <td>US</td>\n      <td>89.0</td>\n      <td>cloudflare.com</td>\n      <td>namesilo.com</td>\n      <td>NaN</td>\n      <td>NaN</td>\n      <td>21</td>\n      <td>0</td>\n      <td>...</td>\n      <td>0.0</td>\n      <td>0.0</td>\n      <td>0.0</td>\n      <td>0</td>\n      <td>3.594466</td>\n      <td>False</td>\n      <td>2</td>\n      <td>0.0</td>\n      <td>0.0</td>\n      <td>illegitimate</td>\n    </tr>\n    <tr>\n      <th>2</th>\n      <td>com</td>\n      <td>NameSilo, LLC</td>\n      <td>US</td>\n      <td>89.0</td>\n      <td>cloudflare.com</td>\n      <td>namesilo.com</td>\n      <td>7.0</td>\n      <td>E1</td>\n      <td>197</td>\n      <td>154</td>\n      <td>...</td>\n      <td>0.0</td>\n      <td>0.0</td>\n      <td>0.0</td>\n      <td>60</td>\n      <td>4.897371</td>\n      <td>True</td>\n      <td>2</td>\n      <td>0.0</td>\n      <td>0.0</td>\n      <td>illegitimate</td>\n    </tr>\n    <tr>\n      <th>3</th>\n      <td>com</td>\n      <td>NameSilo, LLC</td>\n      <td>US</td>\n      <td>89.0</td>\n      <td>cloudflare.com</td>\n      <td>namesilo.com</td>\n      <td>6.0</td>\n      <td>GTS CA 1P5</td>\n      <td>210</td>\n      <td>154</td>\n      <td>...</td>\n      <td>0.0</td>\n      <td>0.0</td>\n      <td>0.0</td>\n      <td>56</td>\n      <td>4.990006</td>\n      <td>True</td>\n      <td>2</td>\n      <td>0.0</td>\n      <td>0.0</td>\n      <td>illegitimate</td>\n    </tr>\n    <tr>\n      <th>4</th>\n      <td>com</td>\n      <td>NameSilo, LLC</td>\n      <td>US</td>\n      <td>89.0</td>\n      <td>cloudflare.com</td>\n      <td>namesilo.com</td>\n      <td>6.0</td>\n      <td>E1</td>\n      <td>206</td>\n      <td>154</td>\n      <td>...</td>\n      <td>0.0</td>\n      <td>0.0</td>\n      <td>0.0</td>\n      <td>64</td>\n      <td>4.966357</td>\n      <td>True</td>\n      <td>2</td>\n      <td>0.0</td>\n      <td>0.0</td>\n      <td>illegitimate</td>\n    </tr>\n    <tr>\n      <th>...</th>\n      <td>...</td>\n      <td>...</td>\n      <td>...</td>\n      <td>...</td>\n      <td>...</td>\n      <td>...</td>\n      <td>...</td>\n      <td>...</td>\n      <td>...</td>\n      <td>...</td>\n      <td>...</td>\n      <td>...</td>\n      <td>...</td>\n      <td>...</td>\n      <td>...</td>\n      <td>...</td>\n      <td>...</td>\n      <td>...</td>\n      <td>...</td>\n      <td>...</td>\n      <td>...</td>\n    </tr>\n    <tr>\n      <th>11108</th>\n      <td>xyz</td>\n      <td>Registrar of Domain Names REG.RU, LLC</td>\n      <td>PL</td>\n      <td>1.0</td>\n      <td>cloudflare.com</td>\n      <td>reg.ru</td>\n      <td>NaN</td>\n      <td>NaN</td>\n      <td>34</td>\n      <td>0</td>\n      <td>...</td>\n      <td>0.0</td>\n      <td>0.0</td>\n      <td>0.0</td>\n      <td>8</td>\n      <td>4.079679</td>\n      <td>True</td>\n      <td>3</td>\n      <td>1.0</td>\n      <td>1.0</td>\n      <td>illegitimate</td>\n    </tr>\n    <tr>\n      <th>11109</th>\n      <td>xyz</td>\n      <td>Registrar of Domain Names REG.RU, LLC</td>\n      <td>PL</td>\n      <td>1.0</td>\n      <td>cloudflare.com</td>\n      <td>reg.ru</td>\n      <td>1.0</td>\n      <td>GTS CA 1P5</td>\n      <td>43</td>\n      <td>0</td>\n      <td>...</td>\n      <td>0.0</td>\n      <td>0.0</td>\n      <td>0.0</td>\n      <td>10</td>\n      <td>4.518833</td>\n      <td>False</td>\n      <td>3</td>\n      <td>0.0</td>\n      <td>0.0</td>\n      <td>illegitimate</td>\n    </tr>\n    <tr>\n      <th>11110</th>\n      <td>site</td>\n      <td>Name.com, Inc</td>\n      <td>UA</td>\n      <td>253.0</td>\n      <td>name.com</td>\n      <td>name.com</td>\n      <td>NaN</td>\n      <td>NaN</td>\n      <td>32</td>\n      <td>0</td>\n      <td>...</td>\n      <td>0.0</td>\n      <td>0.0</td>\n      <td>0.0</td>\n      <td>0</td>\n      <td>3.965018</td>\n      <td>False</td>\n      <td>3</td>\n      <td>0.0</td>\n      <td>8.0</td>\n      <td>illegitimate</td>\n    </tr>\n    <tr>\n      <th>11111</th>\n      <td>site</td>\n      <td>Name.com, Inc</td>\n      <td>UA</td>\n      <td>253.0</td>\n      <td>name.com</td>\n      <td>name.com</td>\n      <td>NaN</td>\n      <td>NaN</td>\n      <td>33</td>\n      <td>0</td>\n      <td>...</td>\n      <td>0.0</td>\n      <td>0.0</td>\n      <td>0.0</td>\n      <td>0</td>\n      <td>4.089552</td>\n      <td>False</td>\n      <td>3</td>\n      <td>0.0</td>\n      <td>8.0</td>\n      <td>illegitimate</td>\n    </tr>\n    <tr>\n      <th>11112</th>\n      <td>xyz</td>\n      <td>Name.com, Inc</td>\n      <td>UA</td>\n      <td>296.0</td>\n      <td>name.com</td>\n      <td>name.com</td>\n      <td>NaN</td>\n      <td>NaN</td>\n      <td>31</td>\n      <td>0</td>\n      <td>...</td>\n      <td>0.0</td>\n      <td>0.0</td>\n      <td>0.0</td>\n      <td>1</td>\n      <td>4.171465</td>\n      <td>False</td>\n      <td>3</td>\n      <td>0.0</td>\n      <td>8.0</td>\n      <td>illegitimate</td>\n    </tr>\n  </tbody>\n</table>\n<p>11113 rows × 29 columns</p>\n</div>"
     },
     "execution_count": 54,
     "metadata": {},
     "output_type": "execute_result"
    }
   ],
   "source": [
    "illegitimate_df = pd.read_csv('../../data/illegitimate_data.csv')\n",
    "#illegitimate_df = illegitimate_df.dropna(subset=['tls_age'])\n",
    "#illegitimate_df = illegitimate_df.dropna(subset=['tls_issuer'])\n",
    "#illegitimate_df = illegitimate_df.dropna(subset=['is_redirect'])\n",
    "illegitimate_df"
   ]
  },
  {
   "cell_type": "code",
   "execution_count": 55,
   "metadata": {
    "ExecuteTime": {
     "start_time": "2023-06-14T22:36:46.771208Z",
     "end_time": "2023-06-14T22:36:46.829383Z"
    },
    "collapsed": false
   },
   "outputs": [
    {
     "data": {
      "text/plain": "          tld                                          registrar  \\\n0         org                                      DreamHost LLC   \n1         org  Webcentral Group Limited dba Melbourne IT (Aus...   \n2         org  Webcentral Group Limited dba Melbourne IT (Aus...   \n3          fr                                        GIP RENATER   \n4         com                             Network Solutions, LLC   \n...       ...                                                ...   \n3430      com                                      NameSilo, LLC   \n3431  academy                                    NameCheap, Inc.   \n3432      com                                Tucows Domains Inc.   \n3433      com                                   GoDaddy.com, LLC   \n3434      com                        CSC Corporate Domains, Inc.   \n\n     registrant_country  domain_age      nameserver_domain  \\\n0                    US      6334.0          dreamhost.com   \n1                    AU      7978.0             afraid.org   \n2                    AU      7978.0             afraid.org   \n3                   NaN     10390.0       polytechnique.fr   \n4                    US      8697.0      dns-solutions.net   \n...                 ...         ...                    ...   \n3430                 US      1421.0         cloudflare.com   \n3431                 IS      2567.0  registrar-servers.com   \n3432                 CA      7487.0         cloudflare.com   \n3433                 US      3503.0         cloudflare.com   \n3434                 US     13263.0              apple.com   \n\n                 mail_domain  tls_age                 tls_issuer  url_len  \\\n0                        NaN      NaN                        NaN       27   \n1                        NaN      NaN                        NaN       49   \n2                        NaN      NaN                        NaN       48   \n3                        NaN      NaN                        NaN       81   \n4                        NaN      NaN                        NaN       31   \n...                      ...      ...                        ...      ...   \n3430            namesilo.com      3.0  Google Trust Services LLC       30   \n3431  withheldforprivacy.com     11.0              Let's Encrypt       79   \n3432              tucows.com    101.0           Cloudflare, Inc.       61   \n3433             godaddy.com    165.0           Cloudflare, Inc.       81   \n3434               apple.com     41.0                 Apple Inc.       30   \n\n      parameters_len  ...  opening_bracket_percent  closing_bracket_percent  \\\n0                  0  ...                      0.0                      0.0   \n1                  0  ...                      0.0                      0.0   \n2                  0  ...                      0.0                      0.0   \n3                  0  ...                      0.0                      0.0   \n4                  0  ...                      0.0                      0.0   \n...              ...  ...                      ...                      ...   \n3430               0  ...                      0.0                      0.0   \n3431               0  ...                      0.0                      0.0   \n3432               0  ...                      0.0                      0.0   \n3433               0  ...                      0.0                      0.0   \n3434               0  ...                      0.0                      0.0   \n\n      comma_percent  numbers_percent  url_entropy  is_redirect  \\\n0               0.0          0.00000     3.912114        False   \n1               0.0          0.00000     4.057961        False   \n2               0.0          0.00000     4.130995        False   \n3               0.0          0.00000     4.609257        False   \n4               0.0          0.00000     3.760017        False   \n...             ...              ...          ...          ...   \n3430            0.0          0.00000     4.056565        False   \n3431            0.0          0.00000     4.206024        False   \n3432            0.0         11.47541     4.587895        False   \n3433            0.0          0.00000     4.197393        False   \n3434            0.0          0.00000     3.707752        False   \n\n      subdomain_count  content_link_count  content_img_count       label  \n0                   1                 4.0               11.0  legitimate  \n1                   1                 0.0               18.0  legitimate  \n2                   1                 0.0               18.0  legitimate  \n3                   2                 0.0                0.0  legitimate  \n4                   1                59.0               54.0  legitimate  \n...               ...                 ...                ...         ...  \n3430                1                43.0               80.0  legitimate  \n3431                1                 0.0                0.0  legitimate  \n3432                1                19.0              346.0  legitimate  \n3433                1                 NaN                NaN  legitimate  \n3434                1                 8.0              127.0  legitimate  \n\n[3435 rows x 29 columns]",
      "text/html": "<div>\n<style scoped>\n    .dataframe tbody tr th:only-of-type {\n        vertical-align: middle;\n    }\n\n    .dataframe tbody tr th {\n        vertical-align: top;\n    }\n\n    .dataframe thead th {\n        text-align: right;\n    }\n</style>\n<table border=\"1\" class=\"dataframe\">\n  <thead>\n    <tr style=\"text-align: right;\">\n      <th></th>\n      <th>tld</th>\n      <th>registrar</th>\n      <th>registrant_country</th>\n      <th>domain_age</th>\n      <th>nameserver_domain</th>\n      <th>mail_domain</th>\n      <th>tls_age</th>\n      <th>tls_issuer</th>\n      <th>url_len</th>\n      <th>parameters_len</th>\n      <th>...</th>\n      <th>opening_bracket_percent</th>\n      <th>closing_bracket_percent</th>\n      <th>comma_percent</th>\n      <th>numbers_percent</th>\n      <th>url_entropy</th>\n      <th>is_redirect</th>\n      <th>subdomain_count</th>\n      <th>content_link_count</th>\n      <th>content_img_count</th>\n      <th>label</th>\n    </tr>\n  </thead>\n  <tbody>\n    <tr>\n      <th>0</th>\n      <td>org</td>\n      <td>DreamHost LLC</td>\n      <td>US</td>\n      <td>6334.0</td>\n      <td>dreamhost.com</td>\n      <td>NaN</td>\n      <td>NaN</td>\n      <td>NaN</td>\n      <td>27</td>\n      <td>0</td>\n      <td>...</td>\n      <td>0.0</td>\n      <td>0.0</td>\n      <td>0.0</td>\n      <td>0.00000</td>\n      <td>3.912114</td>\n      <td>False</td>\n      <td>1</td>\n      <td>4.0</td>\n      <td>11.0</td>\n      <td>legitimate</td>\n    </tr>\n    <tr>\n      <th>1</th>\n      <td>org</td>\n      <td>Webcentral Group Limited dba Melbourne IT (Aus...</td>\n      <td>AU</td>\n      <td>7978.0</td>\n      <td>afraid.org</td>\n      <td>NaN</td>\n      <td>NaN</td>\n      <td>NaN</td>\n      <td>49</td>\n      <td>0</td>\n      <td>...</td>\n      <td>0.0</td>\n      <td>0.0</td>\n      <td>0.0</td>\n      <td>0.00000</td>\n      <td>4.057961</td>\n      <td>False</td>\n      <td>1</td>\n      <td>0.0</td>\n      <td>18.0</td>\n      <td>legitimate</td>\n    </tr>\n    <tr>\n      <th>2</th>\n      <td>org</td>\n      <td>Webcentral Group Limited dba Melbourne IT (Aus...</td>\n      <td>AU</td>\n      <td>7978.0</td>\n      <td>afraid.org</td>\n      <td>NaN</td>\n      <td>NaN</td>\n      <td>NaN</td>\n      <td>48</td>\n      <td>0</td>\n      <td>...</td>\n      <td>0.0</td>\n      <td>0.0</td>\n      <td>0.0</td>\n      <td>0.00000</td>\n      <td>4.130995</td>\n      <td>False</td>\n      <td>1</td>\n      <td>0.0</td>\n      <td>18.0</td>\n      <td>legitimate</td>\n    </tr>\n    <tr>\n      <th>3</th>\n      <td>fr</td>\n      <td>GIP RENATER</td>\n      <td>NaN</td>\n      <td>10390.0</td>\n      <td>polytechnique.fr</td>\n      <td>NaN</td>\n      <td>NaN</td>\n      <td>NaN</td>\n      <td>81</td>\n      <td>0</td>\n      <td>...</td>\n      <td>0.0</td>\n      <td>0.0</td>\n      <td>0.0</td>\n      <td>0.00000</td>\n      <td>4.609257</td>\n      <td>False</td>\n      <td>2</td>\n      <td>0.0</td>\n      <td>0.0</td>\n      <td>legitimate</td>\n    </tr>\n    <tr>\n      <th>4</th>\n      <td>com</td>\n      <td>Network Solutions, LLC</td>\n      <td>US</td>\n      <td>8697.0</td>\n      <td>dns-solutions.net</td>\n      <td>NaN</td>\n      <td>NaN</td>\n      <td>NaN</td>\n      <td>31</td>\n      <td>0</td>\n      <td>...</td>\n      <td>0.0</td>\n      <td>0.0</td>\n      <td>0.0</td>\n      <td>0.00000</td>\n      <td>3.760017</td>\n      <td>False</td>\n      <td>1</td>\n      <td>59.0</td>\n      <td>54.0</td>\n      <td>legitimate</td>\n    </tr>\n    <tr>\n      <th>...</th>\n      <td>...</td>\n      <td>...</td>\n      <td>...</td>\n      <td>...</td>\n      <td>...</td>\n      <td>...</td>\n      <td>...</td>\n      <td>...</td>\n      <td>...</td>\n      <td>...</td>\n      <td>...</td>\n      <td>...</td>\n      <td>...</td>\n      <td>...</td>\n      <td>...</td>\n      <td>...</td>\n      <td>...</td>\n      <td>...</td>\n      <td>...</td>\n      <td>...</td>\n      <td>...</td>\n    </tr>\n    <tr>\n      <th>3430</th>\n      <td>com</td>\n      <td>NameSilo, LLC</td>\n      <td>US</td>\n      <td>1421.0</td>\n      <td>cloudflare.com</td>\n      <td>namesilo.com</td>\n      <td>3.0</td>\n      <td>Google Trust Services LLC</td>\n      <td>30</td>\n      <td>0</td>\n      <td>...</td>\n      <td>0.0</td>\n      <td>0.0</td>\n      <td>0.0</td>\n      <td>0.00000</td>\n      <td>4.056565</td>\n      <td>False</td>\n      <td>1</td>\n      <td>43.0</td>\n      <td>80.0</td>\n      <td>legitimate</td>\n    </tr>\n    <tr>\n      <th>3431</th>\n      <td>academy</td>\n      <td>NameCheap, Inc.</td>\n      <td>IS</td>\n      <td>2567.0</td>\n      <td>registrar-servers.com</td>\n      <td>withheldforprivacy.com</td>\n      <td>11.0</td>\n      <td>Let's Encrypt</td>\n      <td>79</td>\n      <td>0</td>\n      <td>...</td>\n      <td>0.0</td>\n      <td>0.0</td>\n      <td>0.0</td>\n      <td>0.00000</td>\n      <td>4.206024</td>\n      <td>False</td>\n      <td>1</td>\n      <td>0.0</td>\n      <td>0.0</td>\n      <td>legitimate</td>\n    </tr>\n    <tr>\n      <th>3432</th>\n      <td>com</td>\n      <td>Tucows Domains Inc.</td>\n      <td>CA</td>\n      <td>7487.0</td>\n      <td>cloudflare.com</td>\n      <td>tucows.com</td>\n      <td>101.0</td>\n      <td>Cloudflare, Inc.</td>\n      <td>61</td>\n      <td>0</td>\n      <td>...</td>\n      <td>0.0</td>\n      <td>0.0</td>\n      <td>0.0</td>\n      <td>11.47541</td>\n      <td>4.587895</td>\n      <td>False</td>\n      <td>1</td>\n      <td>19.0</td>\n      <td>346.0</td>\n      <td>legitimate</td>\n    </tr>\n    <tr>\n      <th>3433</th>\n      <td>com</td>\n      <td>GoDaddy.com, LLC</td>\n      <td>US</td>\n      <td>3503.0</td>\n      <td>cloudflare.com</td>\n      <td>godaddy.com</td>\n      <td>165.0</td>\n      <td>Cloudflare, Inc.</td>\n      <td>81</td>\n      <td>0</td>\n      <td>...</td>\n      <td>0.0</td>\n      <td>0.0</td>\n      <td>0.0</td>\n      <td>0.00000</td>\n      <td>4.197393</td>\n      <td>False</td>\n      <td>1</td>\n      <td>NaN</td>\n      <td>NaN</td>\n      <td>legitimate</td>\n    </tr>\n    <tr>\n      <th>3434</th>\n      <td>com</td>\n      <td>CSC Corporate Domains, Inc.</td>\n      <td>US</td>\n      <td>13263.0</td>\n      <td>apple.com</td>\n      <td>apple.com</td>\n      <td>41.0</td>\n      <td>Apple Inc.</td>\n      <td>30</td>\n      <td>0</td>\n      <td>...</td>\n      <td>0.0</td>\n      <td>0.0</td>\n      <td>0.0</td>\n      <td>0.00000</td>\n      <td>3.707752</td>\n      <td>False</td>\n      <td>1</td>\n      <td>8.0</td>\n      <td>127.0</td>\n      <td>legitimate</td>\n    </tr>\n  </tbody>\n</table>\n<p>3435 rows × 29 columns</p>\n</div>"
     },
     "execution_count": 55,
     "metadata": {},
     "output_type": "execute_result"
    }
   ],
   "source": [
    "legitimate_df = pd.read_csv('../../data/legitimate_data.csv')\n",
    "legitimate_df.drop('url', axis=1, inplace=True)\n",
    "legitimate_df"
   ]
  },
  {
   "cell_type": "code",
   "execution_count": 56,
   "metadata": {
    "ExecuteTime": {
     "start_time": "2023-06-14T22:36:47.938452Z",
     "end_time": "2023-06-14T22:36:47.984772Z"
    },
    "collapsed": false
   },
   "outputs": [
    {
     "data": {
      "text/plain": "          tld                         registrar registrant_country  \\\n0        shop  Registrar of domain names REG.RU                 RU   \n1         com                     NameSilo, LLC                 US   \n2         com                     NameSilo, LLC                 US   \n3         com                     NameSilo, LLC                 US   \n4         com                     NameSilo, LLC                 US   \n...       ...                               ...                ...   \n3430      com                     NameSilo, LLC                 US   \n3431  academy                   NameCheap, Inc.                 IS   \n3432      com               Tucows Domains Inc.                 CA   \n3433      com                  GoDaddy.com, LLC                 US   \n3434      com       CSC Corporate Domains, Inc.                 US   \n\n      domain_age      nameserver_domain             mail_domain  tls_age  \\\n0            5.0                 reg.ru                  reg.ru      5.0   \n1           89.0         cloudflare.com            namesilo.com      NaN   \n2           89.0         cloudflare.com            namesilo.com      7.0   \n3           89.0         cloudflare.com            namesilo.com      6.0   \n4           89.0         cloudflare.com            namesilo.com      6.0   \n...          ...                    ...                     ...      ...   \n3430      1421.0         cloudflare.com            namesilo.com      3.0   \n3431      2567.0  registrar-servers.com  withheldforprivacy.com     11.0   \n3432      7487.0         cloudflare.com              tucows.com    101.0   \n3433      3503.0         cloudflare.com             godaddy.com    165.0   \n3434     13263.0              apple.com               apple.com     41.0   \n\n                     tls_issuer  url_len  parameters_len  ...  \\\n0                            R3       21               0  ...   \n1                           NaN       21               0  ...   \n2                            E1      197             154  ...   \n3                    GTS CA 1P5      210             154  ...   \n4                            E1      206             154  ...   \n...                         ...      ...             ...  ...   \n3430  Google Trust Services LLC       30               0  ...   \n3431              Let's Encrypt       79               0  ...   \n3432           Cloudflare, Inc.       61               0  ...   \n3433           Cloudflare, Inc.       81               0  ...   \n3434                 Apple Inc.       30               0  ...   \n\n      opening_bracket_percent  closing_bracket_percent  comma_percent  \\\n0                         0.0                      0.0            0.0   \n1                         0.0                      0.0            0.0   \n2                         0.0                      0.0            0.0   \n3                         0.0                      0.0            0.0   \n4                         0.0                      0.0            0.0   \n...                       ...                      ...            ...   \n3430                      0.0                      0.0            0.0   \n3431                      0.0                      0.0            0.0   \n3432                      0.0                      0.0            0.0   \n3433                      0.0                      0.0            0.0   \n3434                      0.0                      0.0            0.0   \n\n      numbers_percent  url_entropy  is_redirect  subdomain_count  \\\n0             0.00000     3.558519         True                2   \n1             0.00000     3.594466        False                2   \n2            60.00000     4.897371         True                2   \n3            56.00000     4.990006         True                2   \n4            64.00000     4.966357         True                2   \n...               ...          ...          ...              ...   \n3430          0.00000     4.056565        False                1   \n3431          0.00000     4.206024        False                1   \n3432         11.47541     4.587895        False                1   \n3433          0.00000     4.197393        False                1   \n3434          0.00000     3.707752        False                1   \n\n      content_link_count  content_img_count         label  \n0                   44.0               17.0  illegitimate  \n1                    0.0                0.0  illegitimate  \n2                    0.0                0.0  illegitimate  \n3                    0.0                0.0  illegitimate  \n4                    0.0                0.0  illegitimate  \n...                  ...                ...           ...  \n3430                43.0               80.0    legitimate  \n3431                 0.0                0.0    legitimate  \n3432                19.0              346.0    legitimate  \n3433                 NaN                NaN    legitimate  \n3434                 8.0              127.0    legitimate  \n\n[14548 rows x 29 columns]",
      "text/html": "<div>\n<style scoped>\n    .dataframe tbody tr th:only-of-type {\n        vertical-align: middle;\n    }\n\n    .dataframe tbody tr th {\n        vertical-align: top;\n    }\n\n    .dataframe thead th {\n        text-align: right;\n    }\n</style>\n<table border=\"1\" class=\"dataframe\">\n  <thead>\n    <tr style=\"text-align: right;\">\n      <th></th>\n      <th>tld</th>\n      <th>registrar</th>\n      <th>registrant_country</th>\n      <th>domain_age</th>\n      <th>nameserver_domain</th>\n      <th>mail_domain</th>\n      <th>tls_age</th>\n      <th>tls_issuer</th>\n      <th>url_len</th>\n      <th>parameters_len</th>\n      <th>...</th>\n      <th>opening_bracket_percent</th>\n      <th>closing_bracket_percent</th>\n      <th>comma_percent</th>\n      <th>numbers_percent</th>\n      <th>url_entropy</th>\n      <th>is_redirect</th>\n      <th>subdomain_count</th>\n      <th>content_link_count</th>\n      <th>content_img_count</th>\n      <th>label</th>\n    </tr>\n  </thead>\n  <tbody>\n    <tr>\n      <th>0</th>\n      <td>shop</td>\n      <td>Registrar of domain names REG.RU</td>\n      <td>RU</td>\n      <td>5.0</td>\n      <td>reg.ru</td>\n      <td>reg.ru</td>\n      <td>5.0</td>\n      <td>R3</td>\n      <td>21</td>\n      <td>0</td>\n      <td>...</td>\n      <td>0.0</td>\n      <td>0.0</td>\n      <td>0.0</td>\n      <td>0.00000</td>\n      <td>3.558519</td>\n      <td>True</td>\n      <td>2</td>\n      <td>44.0</td>\n      <td>17.0</td>\n      <td>illegitimate</td>\n    </tr>\n    <tr>\n      <th>1</th>\n      <td>com</td>\n      <td>NameSilo, LLC</td>\n      <td>US</td>\n      <td>89.0</td>\n      <td>cloudflare.com</td>\n      <td>namesilo.com</td>\n      <td>NaN</td>\n      <td>NaN</td>\n      <td>21</td>\n      <td>0</td>\n      <td>...</td>\n      <td>0.0</td>\n      <td>0.0</td>\n      <td>0.0</td>\n      <td>0.00000</td>\n      <td>3.594466</td>\n      <td>False</td>\n      <td>2</td>\n      <td>0.0</td>\n      <td>0.0</td>\n      <td>illegitimate</td>\n    </tr>\n    <tr>\n      <th>2</th>\n      <td>com</td>\n      <td>NameSilo, LLC</td>\n      <td>US</td>\n      <td>89.0</td>\n      <td>cloudflare.com</td>\n      <td>namesilo.com</td>\n      <td>7.0</td>\n      <td>E1</td>\n      <td>197</td>\n      <td>154</td>\n      <td>...</td>\n      <td>0.0</td>\n      <td>0.0</td>\n      <td>0.0</td>\n      <td>60.00000</td>\n      <td>4.897371</td>\n      <td>True</td>\n      <td>2</td>\n      <td>0.0</td>\n      <td>0.0</td>\n      <td>illegitimate</td>\n    </tr>\n    <tr>\n      <th>3</th>\n      <td>com</td>\n      <td>NameSilo, LLC</td>\n      <td>US</td>\n      <td>89.0</td>\n      <td>cloudflare.com</td>\n      <td>namesilo.com</td>\n      <td>6.0</td>\n      <td>GTS CA 1P5</td>\n      <td>210</td>\n      <td>154</td>\n      <td>...</td>\n      <td>0.0</td>\n      <td>0.0</td>\n      <td>0.0</td>\n      <td>56.00000</td>\n      <td>4.990006</td>\n      <td>True</td>\n      <td>2</td>\n      <td>0.0</td>\n      <td>0.0</td>\n      <td>illegitimate</td>\n    </tr>\n    <tr>\n      <th>4</th>\n      <td>com</td>\n      <td>NameSilo, LLC</td>\n      <td>US</td>\n      <td>89.0</td>\n      <td>cloudflare.com</td>\n      <td>namesilo.com</td>\n      <td>6.0</td>\n      <td>E1</td>\n      <td>206</td>\n      <td>154</td>\n      <td>...</td>\n      <td>0.0</td>\n      <td>0.0</td>\n      <td>0.0</td>\n      <td>64.00000</td>\n      <td>4.966357</td>\n      <td>True</td>\n      <td>2</td>\n      <td>0.0</td>\n      <td>0.0</td>\n      <td>illegitimate</td>\n    </tr>\n    <tr>\n      <th>...</th>\n      <td>...</td>\n      <td>...</td>\n      <td>...</td>\n      <td>...</td>\n      <td>...</td>\n      <td>...</td>\n      <td>...</td>\n      <td>...</td>\n      <td>...</td>\n      <td>...</td>\n      <td>...</td>\n      <td>...</td>\n      <td>...</td>\n      <td>...</td>\n      <td>...</td>\n      <td>...</td>\n      <td>...</td>\n      <td>...</td>\n      <td>...</td>\n      <td>...</td>\n      <td>...</td>\n    </tr>\n    <tr>\n      <th>3430</th>\n      <td>com</td>\n      <td>NameSilo, LLC</td>\n      <td>US</td>\n      <td>1421.0</td>\n      <td>cloudflare.com</td>\n      <td>namesilo.com</td>\n      <td>3.0</td>\n      <td>Google Trust Services LLC</td>\n      <td>30</td>\n      <td>0</td>\n      <td>...</td>\n      <td>0.0</td>\n      <td>0.0</td>\n      <td>0.0</td>\n      <td>0.00000</td>\n      <td>4.056565</td>\n      <td>False</td>\n      <td>1</td>\n      <td>43.0</td>\n      <td>80.0</td>\n      <td>legitimate</td>\n    </tr>\n    <tr>\n      <th>3431</th>\n      <td>academy</td>\n      <td>NameCheap, Inc.</td>\n      <td>IS</td>\n      <td>2567.0</td>\n      <td>registrar-servers.com</td>\n      <td>withheldforprivacy.com</td>\n      <td>11.0</td>\n      <td>Let's Encrypt</td>\n      <td>79</td>\n      <td>0</td>\n      <td>...</td>\n      <td>0.0</td>\n      <td>0.0</td>\n      <td>0.0</td>\n      <td>0.00000</td>\n      <td>4.206024</td>\n      <td>False</td>\n      <td>1</td>\n      <td>0.0</td>\n      <td>0.0</td>\n      <td>legitimate</td>\n    </tr>\n    <tr>\n      <th>3432</th>\n      <td>com</td>\n      <td>Tucows Domains Inc.</td>\n      <td>CA</td>\n      <td>7487.0</td>\n      <td>cloudflare.com</td>\n      <td>tucows.com</td>\n      <td>101.0</td>\n      <td>Cloudflare, Inc.</td>\n      <td>61</td>\n      <td>0</td>\n      <td>...</td>\n      <td>0.0</td>\n      <td>0.0</td>\n      <td>0.0</td>\n      <td>11.47541</td>\n      <td>4.587895</td>\n      <td>False</td>\n      <td>1</td>\n      <td>19.0</td>\n      <td>346.0</td>\n      <td>legitimate</td>\n    </tr>\n    <tr>\n      <th>3433</th>\n      <td>com</td>\n      <td>GoDaddy.com, LLC</td>\n      <td>US</td>\n      <td>3503.0</td>\n      <td>cloudflare.com</td>\n      <td>godaddy.com</td>\n      <td>165.0</td>\n      <td>Cloudflare, Inc.</td>\n      <td>81</td>\n      <td>0</td>\n      <td>...</td>\n      <td>0.0</td>\n      <td>0.0</td>\n      <td>0.0</td>\n      <td>0.00000</td>\n      <td>4.197393</td>\n      <td>False</td>\n      <td>1</td>\n      <td>NaN</td>\n      <td>NaN</td>\n      <td>legitimate</td>\n    </tr>\n    <tr>\n      <th>3434</th>\n      <td>com</td>\n      <td>CSC Corporate Domains, Inc.</td>\n      <td>US</td>\n      <td>13263.0</td>\n      <td>apple.com</td>\n      <td>apple.com</td>\n      <td>41.0</td>\n      <td>Apple Inc.</td>\n      <td>30</td>\n      <td>0</td>\n      <td>...</td>\n      <td>0.0</td>\n      <td>0.0</td>\n      <td>0.0</td>\n      <td>0.00000</td>\n      <td>3.707752</td>\n      <td>False</td>\n      <td>1</td>\n      <td>8.0</td>\n      <td>127.0</td>\n      <td>legitimate</td>\n    </tr>\n  </tbody>\n</table>\n<p>14548 rows × 29 columns</p>\n</div>"
     },
     "execution_count": 56,
     "metadata": {},
     "output_type": "execute_result"
    }
   ],
   "source": [
    "all_df = pd.concat([illegitimate_df, legitimate_df])\n",
    "all_df"
   ]
  },
  {
   "cell_type": "code",
   "execution_count": 101,
   "outputs": [
    {
     "data": {
      "text/plain": "      tld  registrar  registrant_country  domain_age  nameserver_domain  \\\n0       0          0                   0           5                  0   \n1       1          1                   1          89                  1   \n2       1          1                   1          89                  1   \n3       1          1                   1          89                  1   \n4       1          1                   1          89                  1   \n...   ...        ...                 ...         ...                ...   \n3430    1          1                   1        1421                  1   \n3431  149          7                   2        2567                  8   \n3432    1         10                  12        7487                  1   \n3433    1         12                   1        3503                  1   \n3434    1         24                   1       13263                275   \n\n      mail_domain  tls_age  tls_issuer  url_len  parameters_len  ...  \\\n0               0        5           0       21               0  ...   \n1               1       -1          -1       21               0  ...   \n2               1        7           2      197             154  ...   \n3               1        6           3      210             154  ...   \n4               1        6           2      206             154  ...   \n...           ...      ...         ...      ...             ...  ...   \n3430            1        3          55       30               0  ...   \n3431            7       11          63       79               0  ...   \n3432            8      101          61       61               0  ...   \n3433           10      165          61       81               0  ...   \n3434          178       41          76       30               0  ...   \n\n      opening_bracket_percent  closing_bracket_percent  comma_percent  \\\n0                           0                        0              0   \n1                           0                        0              0   \n2                           0                        0              0   \n3                           0                        0              0   \n4                           0                        0              0   \n...                       ...                      ...            ...   \n3430                        0                        0              0   \n3431                        0                        0              0   \n3432                        0                        0              0   \n3433                        0                        0              0   \n3434                        0                        0              0   \n\n      numbers_percent  url_entropy  is_redirect  subdomain_count  \\\n0                   0            3            1                2   \n1                   0            3            0                2   \n2                  60            4            1                2   \n3                  56            4            1                2   \n4                  64            4            1                2   \n...               ...          ...          ...              ...   \n3430                0            4            0                1   \n3431                0            4            0                1   \n3432               11            4            0                1   \n3433                0            4            0                1   \n3434                0            3            0                1   \n\n      content_link_count  content_img_count  label  \n0                     44                 17      0  \n1                      0                  0      0  \n2                      0                  0      0  \n3                      0                  0      0  \n4                      0                  0      0  \n...                  ...                ...    ...  \n3430                  43                 80      1  \n3431                   0                  0      1  \n3432                  19                346      1  \n3433                  -1                 -1      1  \n3434                   8                127      1  \n\n[14548 rows x 29 columns]",
      "text/html": "<div>\n<style scoped>\n    .dataframe tbody tr th:only-of-type {\n        vertical-align: middle;\n    }\n\n    .dataframe tbody tr th {\n        vertical-align: top;\n    }\n\n    .dataframe thead th {\n        text-align: right;\n    }\n</style>\n<table border=\"1\" class=\"dataframe\">\n  <thead>\n    <tr style=\"text-align: right;\">\n      <th></th>\n      <th>tld</th>\n      <th>registrar</th>\n      <th>registrant_country</th>\n      <th>domain_age</th>\n      <th>nameserver_domain</th>\n      <th>mail_domain</th>\n      <th>tls_age</th>\n      <th>tls_issuer</th>\n      <th>url_len</th>\n      <th>parameters_len</th>\n      <th>...</th>\n      <th>opening_bracket_percent</th>\n      <th>closing_bracket_percent</th>\n      <th>comma_percent</th>\n      <th>numbers_percent</th>\n      <th>url_entropy</th>\n      <th>is_redirect</th>\n      <th>subdomain_count</th>\n      <th>content_link_count</th>\n      <th>content_img_count</th>\n      <th>label</th>\n    </tr>\n  </thead>\n  <tbody>\n    <tr>\n      <th>0</th>\n      <td>0</td>\n      <td>0</td>\n      <td>0</td>\n      <td>5</td>\n      <td>0</td>\n      <td>0</td>\n      <td>5</td>\n      <td>0</td>\n      <td>21</td>\n      <td>0</td>\n      <td>...</td>\n      <td>0</td>\n      <td>0</td>\n      <td>0</td>\n      <td>0</td>\n      <td>3</td>\n      <td>1</td>\n      <td>2</td>\n      <td>44</td>\n      <td>17</td>\n      <td>0</td>\n    </tr>\n    <tr>\n      <th>1</th>\n      <td>1</td>\n      <td>1</td>\n      <td>1</td>\n      <td>89</td>\n      <td>1</td>\n      <td>1</td>\n      <td>-1</td>\n      <td>-1</td>\n      <td>21</td>\n      <td>0</td>\n      <td>...</td>\n      <td>0</td>\n      <td>0</td>\n      <td>0</td>\n      <td>0</td>\n      <td>3</td>\n      <td>0</td>\n      <td>2</td>\n      <td>0</td>\n      <td>0</td>\n      <td>0</td>\n    </tr>\n    <tr>\n      <th>2</th>\n      <td>1</td>\n      <td>1</td>\n      <td>1</td>\n      <td>89</td>\n      <td>1</td>\n      <td>1</td>\n      <td>7</td>\n      <td>2</td>\n      <td>197</td>\n      <td>154</td>\n      <td>...</td>\n      <td>0</td>\n      <td>0</td>\n      <td>0</td>\n      <td>60</td>\n      <td>4</td>\n      <td>1</td>\n      <td>2</td>\n      <td>0</td>\n      <td>0</td>\n      <td>0</td>\n    </tr>\n    <tr>\n      <th>3</th>\n      <td>1</td>\n      <td>1</td>\n      <td>1</td>\n      <td>89</td>\n      <td>1</td>\n      <td>1</td>\n      <td>6</td>\n      <td>3</td>\n      <td>210</td>\n      <td>154</td>\n      <td>...</td>\n      <td>0</td>\n      <td>0</td>\n      <td>0</td>\n      <td>56</td>\n      <td>4</td>\n      <td>1</td>\n      <td>2</td>\n      <td>0</td>\n      <td>0</td>\n      <td>0</td>\n    </tr>\n    <tr>\n      <th>4</th>\n      <td>1</td>\n      <td>1</td>\n      <td>1</td>\n      <td>89</td>\n      <td>1</td>\n      <td>1</td>\n      <td>6</td>\n      <td>2</td>\n      <td>206</td>\n      <td>154</td>\n      <td>...</td>\n      <td>0</td>\n      <td>0</td>\n      <td>0</td>\n      <td>64</td>\n      <td>4</td>\n      <td>1</td>\n      <td>2</td>\n      <td>0</td>\n      <td>0</td>\n      <td>0</td>\n    </tr>\n    <tr>\n      <th>...</th>\n      <td>...</td>\n      <td>...</td>\n      <td>...</td>\n      <td>...</td>\n      <td>...</td>\n      <td>...</td>\n      <td>...</td>\n      <td>...</td>\n      <td>...</td>\n      <td>...</td>\n      <td>...</td>\n      <td>...</td>\n      <td>...</td>\n      <td>...</td>\n      <td>...</td>\n      <td>...</td>\n      <td>...</td>\n      <td>...</td>\n      <td>...</td>\n      <td>...</td>\n      <td>...</td>\n    </tr>\n    <tr>\n      <th>3430</th>\n      <td>1</td>\n      <td>1</td>\n      <td>1</td>\n      <td>1421</td>\n      <td>1</td>\n      <td>1</td>\n      <td>3</td>\n      <td>55</td>\n      <td>30</td>\n      <td>0</td>\n      <td>...</td>\n      <td>0</td>\n      <td>0</td>\n      <td>0</td>\n      <td>0</td>\n      <td>4</td>\n      <td>0</td>\n      <td>1</td>\n      <td>43</td>\n      <td>80</td>\n      <td>1</td>\n    </tr>\n    <tr>\n      <th>3431</th>\n      <td>149</td>\n      <td>7</td>\n      <td>2</td>\n      <td>2567</td>\n      <td>8</td>\n      <td>7</td>\n      <td>11</td>\n      <td>63</td>\n      <td>79</td>\n      <td>0</td>\n      <td>...</td>\n      <td>0</td>\n      <td>0</td>\n      <td>0</td>\n      <td>0</td>\n      <td>4</td>\n      <td>0</td>\n      <td>1</td>\n      <td>0</td>\n      <td>0</td>\n      <td>1</td>\n    </tr>\n    <tr>\n      <th>3432</th>\n      <td>1</td>\n      <td>10</td>\n      <td>12</td>\n      <td>7487</td>\n      <td>1</td>\n      <td>8</td>\n      <td>101</td>\n      <td>61</td>\n      <td>61</td>\n      <td>0</td>\n      <td>...</td>\n      <td>0</td>\n      <td>0</td>\n      <td>0</td>\n      <td>11</td>\n      <td>4</td>\n      <td>0</td>\n      <td>1</td>\n      <td>19</td>\n      <td>346</td>\n      <td>1</td>\n    </tr>\n    <tr>\n      <th>3433</th>\n      <td>1</td>\n      <td>12</td>\n      <td>1</td>\n      <td>3503</td>\n      <td>1</td>\n      <td>10</td>\n      <td>165</td>\n      <td>61</td>\n      <td>81</td>\n      <td>0</td>\n      <td>...</td>\n      <td>0</td>\n      <td>0</td>\n      <td>0</td>\n      <td>0</td>\n      <td>4</td>\n      <td>0</td>\n      <td>1</td>\n      <td>-1</td>\n      <td>-1</td>\n      <td>1</td>\n    </tr>\n    <tr>\n      <th>3434</th>\n      <td>1</td>\n      <td>24</td>\n      <td>1</td>\n      <td>13263</td>\n      <td>275</td>\n      <td>178</td>\n      <td>41</td>\n      <td>76</td>\n      <td>30</td>\n      <td>0</td>\n      <td>...</td>\n      <td>0</td>\n      <td>0</td>\n      <td>0</td>\n      <td>0</td>\n      <td>3</td>\n      <td>0</td>\n      <td>1</td>\n      <td>8</td>\n      <td>127</td>\n      <td>1</td>\n    </tr>\n  </tbody>\n</table>\n<p>14548 rows × 29 columns</p>\n</div>"
     },
     "execution_count": 101,
     "metadata": {},
     "output_type": "execute_result"
    }
   ],
   "source": [
    "import json\n",
    "\n",
    "all_df_ml = all_df.copy()\n",
    "all_df_ml['label'] = all_df['label'].replace({'illegitimate': 1, 'legitimate': 0})\n",
    "all_df_ml = all_df.fillna(-1)\n",
    "\n",
    "dict = {}\n",
    "for col in all_df_ml.columns:\n",
    "    if all_df_ml[col].dtype == object:  # Sprawdzenie, czy kolumna jest typu 'object' (string)\n",
    "        uniq_val = all_df_ml[col].unique()  # Pobranie unikalnych wartości dla danej kolumny\n",
    "        mapping = {val: index for index, val in enumerate(uniq_val)}  # Tworzenie mapowania\n",
    "        dict[col] = mapping  # Dodawanie mapowania do słownika\n",
    "\n",
    "dict = {col: {str(k): int(v) for k, v in mapping.items()} for col, mapping in dict.items()}\n",
    "\n",
    "with open('dict.json', 'w') as file:\n",
    "    json.dump(dict, file)\n",
    "\n",
    "\n",
    "all_df_ml_ready = all_df_ml.replace(dict).astype(int)\n",
    "all_df_ml_ready"
   ],
   "metadata": {
    "collapsed": false,
    "ExecuteTime": {
     "start_time": "2023-06-14T23:17:23.964102Z",
     "end_time": "2023-06-14T23:17:25.904097Z"
    }
   }
  },
  {
   "cell_type": "markdown",
   "metadata": {
    "collapsed": false
   },
   "source": [
    "## Zamiana feature'ów tekstowych na liczbowe"
   ]
  },
  {
   "cell_type": "code",
   "execution_count": 103,
   "metadata": {
    "ExecuteTime": {
     "start_time": "2023-06-14T23:17:44.341238Z",
     "end_time": "2023-06-14T23:17:44.454798Z"
    },
    "collapsed": false
   },
   "outputs": [],
   "source": [
    "#all_df_ml_ready = all_df.copy()\n",
    "##TODO możliwe że tu trzeba inaczej zamienić na liczbowe - nie wiem czy to jest ok, ktoś musi sprawdzić\n",
    "#all_df_ml_ready['label'] = all_df_ml_ready['label'].replace({'illegitimate': 1, 'legitimate': 0})\n",
    "#all_df_ml_ready = all_df_ml_ready.fillna(-1)\n",
    "#for col in all_df_ml_ready.columns:\n",
    "#    if all_df_ml_ready[col].dtype == object:  # Only apply to object (string) columns\n",
    "#        labels, uniques = pd.factorize(all_df_ml_ready[col])\n",
    "#        all_df_ml_ready[col] = labels\n",
    "#all_df_ml_ready"
   ]
  },
  {
   "cell_type": "code",
   "execution_count": 103,
   "outputs": [],
   "source": [],
   "metadata": {
    "collapsed": false,
    "ExecuteTime": {
     "start_time": "2023-06-14T23:17:44.848147Z",
     "end_time": "2023-06-14T23:17:44.879560Z"
    }
   }
  },
  {
   "cell_type": "markdown",
   "metadata": {
    "collapsed": false
   },
   "source": [
    "# TODO chłopaki\n",
    "statystyki z pól df\n",
    "tabelka z podsumowaniem\n",
    "tabelka korelacji parametrów\n",
    "z danych liczbowych jakieś wykresy/histogramy\n",
    "z tekstowych policzenie (zostawiamy te Pawłowe)\n",
    "jak parametr zbyt płaski to może x^2"
   ]
  },
  {
   "cell_type": "code",
   "execution_count": 104,
   "metadata": {
    "ExecuteTime": {
     "start_time": "2023-06-14T23:17:45.620986Z",
     "end_time": "2023-06-14T23:17:45.630457Z"
    },
    "collapsed": false
   },
   "outputs": [],
   "source": [
    "all_df_ml_ready_legit = all_df_ml_ready.loc[all_df_ml_ready['label'] == 0]\n",
    "all_df_ml_ready_illegit = all_df_ml_ready.loc[all_df_ml_ready['label'] == 1]"
   ]
  },
  {
   "cell_type": "markdown",
   "metadata": {
    "collapsed": false
   },
   "source": [
    "### Statytyki z podziałem na dane legit i illegit"
   ]
  },
  {
   "cell_type": "code",
   "execution_count": 105,
   "metadata": {
    "ExecuteTime": {
     "start_time": "2023-06-14T23:17:46.470098Z",
     "end_time": "2023-06-14T23:17:46.583348Z"
    },
    "collapsed": false
   },
   "outputs": [
    {
     "data": {
      "text/plain": "               tld    registrar  registrant_country    domain_age  \\\ncount  3435.000000  3435.000000         3435.000000   3435.000000   \nmean     19.071033    53.678020            5.267540   4632.439010   \nstd      36.034809    71.643828           13.542994   3875.680575   \nmin       1.000000    -1.000000           -1.000000     -1.000000   \n25%       1.000000    -1.000000           -1.000000     -1.000000   \n50%       3.000000    33.000000            1.000000   4469.000000   \n75%      22.000000    75.500000            2.000000   8104.000000   \nmax     149.000000   274.000000           84.000000  13929.000000   \n\n       nameserver_domain  mail_domain      tls_age   tls_issuer      url_len  \\\ncount        3435.000000  3435.000000  3435.000000  3435.000000  3435.000000   \nmean           85.367686     2.712955    95.328675    58.840757    92.677729   \nstd           112.657852    20.780455    94.318056     9.627662   137.977086   \nmin            -1.000000    -1.000000    -1.000000    -1.000000    15.000000   \n25%            -1.000000    -1.000000    24.000000    55.000000    41.000000   \n50%            11.000000    -1.000000    56.000000    61.000000    60.000000   \n75%           201.000000    -1.000000   131.000000    63.000000    90.000000   \nmax           384.000000   178.000000   369.000000    80.000000  1991.000000   \n\n       parameters_len  ...  opening_bracket_percent  closing_bracket_percent  \\\ncount     3435.000000  ...                   3435.0                   3435.0   \nmean        33.741194  ...                      0.0                      0.0   \nstd        132.341527  ...                      0.0                      0.0   \nmin          0.000000  ...                      0.0                      0.0   \n25%          0.000000  ...                      0.0                      0.0   \n50%          0.000000  ...                      0.0                      0.0   \n75%          0.000000  ...                      0.0                      0.0   \nmax       1903.000000  ...                      0.0                      0.0   \n\n       comma_percent  numbers_percent  url_entropy  is_redirect  \\\ncount         3435.0      3435.000000  3435.000000  3435.000000   \nmean             0.0         6.528675     3.937991     0.120233   \nstd              0.0         9.233620     0.531969     0.325281   \nmin              0.0         0.000000     2.000000     0.000000   \n25%              0.0         0.000000     4.000000     0.000000   \n50%              0.0         2.000000     4.000000     0.000000   \n75%              0.0        10.000000     4.000000     0.000000   \nmax              0.0        54.000000     6.000000     1.000000   \n\n       subdomain_count  content_link_count  content_img_count   label  \ncount      3435.000000         3435.000000        3435.000000  3435.0  \nmean          1.042213           19.901310         104.658224     1.0  \nstd           0.216446           70.695566         221.568857     0.0  \nmin           1.000000           -1.000000          -1.000000     1.0  \n25%           1.000000            0.000000           0.000000     1.0  \n50%           1.000000            2.000000          35.000000     1.0  \n75%           1.000000           15.000000         123.000000     1.0  \nmax           3.000000         2547.000000        4993.000000     1.0  \n\n[8 rows x 29 columns]",
      "text/html": "<div>\n<style scoped>\n    .dataframe tbody tr th:only-of-type {\n        vertical-align: middle;\n    }\n\n    .dataframe tbody tr th {\n        vertical-align: top;\n    }\n\n    .dataframe thead th {\n        text-align: right;\n    }\n</style>\n<table border=\"1\" class=\"dataframe\">\n  <thead>\n    <tr style=\"text-align: right;\">\n      <th></th>\n      <th>tld</th>\n      <th>registrar</th>\n      <th>registrant_country</th>\n      <th>domain_age</th>\n      <th>nameserver_domain</th>\n      <th>mail_domain</th>\n      <th>tls_age</th>\n      <th>tls_issuer</th>\n      <th>url_len</th>\n      <th>parameters_len</th>\n      <th>...</th>\n      <th>opening_bracket_percent</th>\n      <th>closing_bracket_percent</th>\n      <th>comma_percent</th>\n      <th>numbers_percent</th>\n      <th>url_entropy</th>\n      <th>is_redirect</th>\n      <th>subdomain_count</th>\n      <th>content_link_count</th>\n      <th>content_img_count</th>\n      <th>label</th>\n    </tr>\n  </thead>\n  <tbody>\n    <tr>\n      <th>count</th>\n      <td>3435.000000</td>\n      <td>3435.000000</td>\n      <td>3435.000000</td>\n      <td>3435.000000</td>\n      <td>3435.000000</td>\n      <td>3435.000000</td>\n      <td>3435.000000</td>\n      <td>3435.000000</td>\n      <td>3435.000000</td>\n      <td>3435.000000</td>\n      <td>...</td>\n      <td>3435.0</td>\n      <td>3435.0</td>\n      <td>3435.0</td>\n      <td>3435.000000</td>\n      <td>3435.000000</td>\n      <td>3435.000000</td>\n      <td>3435.000000</td>\n      <td>3435.000000</td>\n      <td>3435.000000</td>\n      <td>3435.0</td>\n    </tr>\n    <tr>\n      <th>mean</th>\n      <td>19.071033</td>\n      <td>53.678020</td>\n      <td>5.267540</td>\n      <td>4632.439010</td>\n      <td>85.367686</td>\n      <td>2.712955</td>\n      <td>95.328675</td>\n      <td>58.840757</td>\n      <td>92.677729</td>\n      <td>33.741194</td>\n      <td>...</td>\n      <td>0.0</td>\n      <td>0.0</td>\n      <td>0.0</td>\n      <td>6.528675</td>\n      <td>3.937991</td>\n      <td>0.120233</td>\n      <td>1.042213</td>\n      <td>19.901310</td>\n      <td>104.658224</td>\n      <td>1.0</td>\n    </tr>\n    <tr>\n      <th>std</th>\n      <td>36.034809</td>\n      <td>71.643828</td>\n      <td>13.542994</td>\n      <td>3875.680575</td>\n      <td>112.657852</td>\n      <td>20.780455</td>\n      <td>94.318056</td>\n      <td>9.627662</td>\n      <td>137.977086</td>\n      <td>132.341527</td>\n      <td>...</td>\n      <td>0.0</td>\n      <td>0.0</td>\n      <td>0.0</td>\n      <td>9.233620</td>\n      <td>0.531969</td>\n      <td>0.325281</td>\n      <td>0.216446</td>\n      <td>70.695566</td>\n      <td>221.568857</td>\n      <td>0.0</td>\n    </tr>\n    <tr>\n      <th>min</th>\n      <td>1.000000</td>\n      <td>-1.000000</td>\n      <td>-1.000000</td>\n      <td>-1.000000</td>\n      <td>-1.000000</td>\n      <td>-1.000000</td>\n      <td>-1.000000</td>\n      <td>-1.000000</td>\n      <td>15.000000</td>\n      <td>0.000000</td>\n      <td>...</td>\n      <td>0.0</td>\n      <td>0.0</td>\n      <td>0.0</td>\n      <td>0.000000</td>\n      <td>2.000000</td>\n      <td>0.000000</td>\n      <td>1.000000</td>\n      <td>-1.000000</td>\n      <td>-1.000000</td>\n      <td>1.0</td>\n    </tr>\n    <tr>\n      <th>25%</th>\n      <td>1.000000</td>\n      <td>-1.000000</td>\n      <td>-1.000000</td>\n      <td>-1.000000</td>\n      <td>-1.000000</td>\n      <td>-1.000000</td>\n      <td>24.000000</td>\n      <td>55.000000</td>\n      <td>41.000000</td>\n      <td>0.000000</td>\n      <td>...</td>\n      <td>0.0</td>\n      <td>0.0</td>\n      <td>0.0</td>\n      <td>0.000000</td>\n      <td>4.000000</td>\n      <td>0.000000</td>\n      <td>1.000000</td>\n      <td>0.000000</td>\n      <td>0.000000</td>\n      <td>1.0</td>\n    </tr>\n    <tr>\n      <th>50%</th>\n      <td>3.000000</td>\n      <td>33.000000</td>\n      <td>1.000000</td>\n      <td>4469.000000</td>\n      <td>11.000000</td>\n      <td>-1.000000</td>\n      <td>56.000000</td>\n      <td>61.000000</td>\n      <td>60.000000</td>\n      <td>0.000000</td>\n      <td>...</td>\n      <td>0.0</td>\n      <td>0.0</td>\n      <td>0.0</td>\n      <td>2.000000</td>\n      <td>4.000000</td>\n      <td>0.000000</td>\n      <td>1.000000</td>\n      <td>2.000000</td>\n      <td>35.000000</td>\n      <td>1.0</td>\n    </tr>\n    <tr>\n      <th>75%</th>\n      <td>22.000000</td>\n      <td>75.500000</td>\n      <td>2.000000</td>\n      <td>8104.000000</td>\n      <td>201.000000</td>\n      <td>-1.000000</td>\n      <td>131.000000</td>\n      <td>63.000000</td>\n      <td>90.000000</td>\n      <td>0.000000</td>\n      <td>...</td>\n      <td>0.0</td>\n      <td>0.0</td>\n      <td>0.0</td>\n      <td>10.000000</td>\n      <td>4.000000</td>\n      <td>0.000000</td>\n      <td>1.000000</td>\n      <td>15.000000</td>\n      <td>123.000000</td>\n      <td>1.0</td>\n    </tr>\n    <tr>\n      <th>max</th>\n      <td>149.000000</td>\n      <td>274.000000</td>\n      <td>84.000000</td>\n      <td>13929.000000</td>\n      <td>384.000000</td>\n      <td>178.000000</td>\n      <td>369.000000</td>\n      <td>80.000000</td>\n      <td>1991.000000</td>\n      <td>1903.000000</td>\n      <td>...</td>\n      <td>0.0</td>\n      <td>0.0</td>\n      <td>0.0</td>\n      <td>54.000000</td>\n      <td>6.000000</td>\n      <td>1.000000</td>\n      <td>3.000000</td>\n      <td>2547.000000</td>\n      <td>4993.000000</td>\n      <td>1.0</td>\n    </tr>\n  </tbody>\n</table>\n<p>8 rows × 29 columns</p>\n</div>"
     },
     "execution_count": 105,
     "metadata": {},
     "output_type": "execute_result"
    }
   ],
   "source": [
    "stats_illegit = all_df_ml_ready_illegit.describe()\n",
    "stats_illegit"
   ]
  },
  {
   "cell_type": "code",
   "execution_count": 106,
   "metadata": {
    "ExecuteTime": {
     "start_time": "2023-06-14T23:17:47.111005Z",
     "end_time": "2023-06-14T23:17:47.184896Z"
    },
    "collapsed": false
   },
   "outputs": [
    {
     "data": {
      "text/plain": "                tld     registrar  registrant_country    domain_age  \\\ncount  11113.000000  11113.000000        11113.000000  11113.000000   \nmean      12.303068     30.878701            3.653379    523.507244   \nstd       17.751878     40.362454            8.189435   1412.298711   \nmin       -1.000000     -1.000000           -1.000000     -1.000000   \n25%        3.000000      4.000000            1.000000      1.000000   \n50%        7.000000     10.000000            1.000000     10.000000   \n75%       15.000000     51.000000            4.000000    197.000000   \nmax      110.000000    213.000000           70.000000   9342.000000   \n\n       nameserver_domain   mail_domain       tls_age    tls_issuer  \\\ncount       11113.000000  11113.000000  11113.000000  11113.000000   \nmean           16.161253     18.425178      6.927382      0.444434   \nstd            32.078769     29.259840     36.579581      5.466749   \nmin            -1.000000     -1.000000     -1.000000     -1.000000   \n25%             1.000000      2.000000     -1.000000     -1.000000   \n50%             1.000000      4.000000     -1.000000     -1.000000   \n75%            14.000000     24.000000     -1.000000     -1.000000   \nmax           193.000000    161.000000   1761.000000     53.000000   \n\n            url_len  parameters_len  ...  opening_bracket_percent  \\\ncount  11113.000000     11113.00000  ...                  11113.0   \nmean      44.901557        11.46837  ...                      0.0   \nstd       70.781126        61.84977  ...                      0.0   \nmin       14.000000         0.00000  ...                      0.0   \n25%       23.000000         0.00000  ...                      0.0   \n50%       27.000000         0.00000  ...                      0.0   \n75%       37.000000         0.00000  ...                      0.0   \nmax     2299.000000      2262.00000  ...                      0.0   \n\n       closing_bracket_percent  comma_percent  numbers_percent   url_entropy  \\\ncount                  11113.0        11113.0     11113.000000  11113.000000   \nmean                       0.0            0.0         6.187438      3.439935   \nstd                        0.0            0.0        15.200237      0.598937   \nmin                        0.0            0.0         0.000000      2.000000   \n25%                        0.0            0.0         0.000000      3.000000   \n50%                        0.0            0.0         0.000000      3.000000   \n75%                        0.0            0.0         7.000000      4.000000   \nmax                        0.0            0.0       401.000000      6.000000   \n\n        is_redirect  subdomain_count  content_link_count  content_img_count  \\\ncount  11113.000000     11113.000000        11113.000000       11113.000000   \nmean      -0.507784         2.665257           25.087015          11.339242   \nstd        0.779367         0.702559          111.158395          58.671364   \nmin       -1.000000         2.000000           -1.000000          -1.000000   \n25%       -1.000000         2.000000            0.000000           0.000000   \n50%       -1.000000         3.000000            0.000000           0.000000   \n75%        0.000000         3.000000            5.000000           4.000000   \nmax        1.000000        10.000000         3035.000000         534.000000   \n\n         label  \ncount  11113.0  \nmean       0.0  \nstd        0.0  \nmin        0.0  \n25%        0.0  \n50%        0.0  \n75%        0.0  \nmax        0.0  \n\n[8 rows x 29 columns]",
      "text/html": "<div>\n<style scoped>\n    .dataframe tbody tr th:only-of-type {\n        vertical-align: middle;\n    }\n\n    .dataframe tbody tr th {\n        vertical-align: top;\n    }\n\n    .dataframe thead th {\n        text-align: right;\n    }\n</style>\n<table border=\"1\" class=\"dataframe\">\n  <thead>\n    <tr style=\"text-align: right;\">\n      <th></th>\n      <th>tld</th>\n      <th>registrar</th>\n      <th>registrant_country</th>\n      <th>domain_age</th>\n      <th>nameserver_domain</th>\n      <th>mail_domain</th>\n      <th>tls_age</th>\n      <th>tls_issuer</th>\n      <th>url_len</th>\n      <th>parameters_len</th>\n      <th>...</th>\n      <th>opening_bracket_percent</th>\n      <th>closing_bracket_percent</th>\n      <th>comma_percent</th>\n      <th>numbers_percent</th>\n      <th>url_entropy</th>\n      <th>is_redirect</th>\n      <th>subdomain_count</th>\n      <th>content_link_count</th>\n      <th>content_img_count</th>\n      <th>label</th>\n    </tr>\n  </thead>\n  <tbody>\n    <tr>\n      <th>count</th>\n      <td>11113.000000</td>\n      <td>11113.000000</td>\n      <td>11113.000000</td>\n      <td>11113.000000</td>\n      <td>11113.000000</td>\n      <td>11113.000000</td>\n      <td>11113.000000</td>\n      <td>11113.000000</td>\n      <td>11113.000000</td>\n      <td>11113.00000</td>\n      <td>...</td>\n      <td>11113.0</td>\n      <td>11113.0</td>\n      <td>11113.0</td>\n      <td>11113.000000</td>\n      <td>11113.000000</td>\n      <td>11113.000000</td>\n      <td>11113.000000</td>\n      <td>11113.000000</td>\n      <td>11113.000000</td>\n      <td>11113.0</td>\n    </tr>\n    <tr>\n      <th>mean</th>\n      <td>12.303068</td>\n      <td>30.878701</td>\n      <td>3.653379</td>\n      <td>523.507244</td>\n      <td>16.161253</td>\n      <td>18.425178</td>\n      <td>6.927382</td>\n      <td>0.444434</td>\n      <td>44.901557</td>\n      <td>11.46837</td>\n      <td>...</td>\n      <td>0.0</td>\n      <td>0.0</td>\n      <td>0.0</td>\n      <td>6.187438</td>\n      <td>3.439935</td>\n      <td>-0.507784</td>\n      <td>2.665257</td>\n      <td>25.087015</td>\n      <td>11.339242</td>\n      <td>0.0</td>\n    </tr>\n    <tr>\n      <th>std</th>\n      <td>17.751878</td>\n      <td>40.362454</td>\n      <td>8.189435</td>\n      <td>1412.298711</td>\n      <td>32.078769</td>\n      <td>29.259840</td>\n      <td>36.579581</td>\n      <td>5.466749</td>\n      <td>70.781126</td>\n      <td>61.84977</td>\n      <td>...</td>\n      <td>0.0</td>\n      <td>0.0</td>\n      <td>0.0</td>\n      <td>15.200237</td>\n      <td>0.598937</td>\n      <td>0.779367</td>\n      <td>0.702559</td>\n      <td>111.158395</td>\n      <td>58.671364</td>\n      <td>0.0</td>\n    </tr>\n    <tr>\n      <th>min</th>\n      <td>-1.000000</td>\n      <td>-1.000000</td>\n      <td>-1.000000</td>\n      <td>-1.000000</td>\n      <td>-1.000000</td>\n      <td>-1.000000</td>\n      <td>-1.000000</td>\n      <td>-1.000000</td>\n      <td>14.000000</td>\n      <td>0.00000</td>\n      <td>...</td>\n      <td>0.0</td>\n      <td>0.0</td>\n      <td>0.0</td>\n      <td>0.000000</td>\n      <td>2.000000</td>\n      <td>-1.000000</td>\n      <td>2.000000</td>\n      <td>-1.000000</td>\n      <td>-1.000000</td>\n      <td>0.0</td>\n    </tr>\n    <tr>\n      <th>25%</th>\n      <td>3.000000</td>\n      <td>4.000000</td>\n      <td>1.000000</td>\n      <td>1.000000</td>\n      <td>1.000000</td>\n      <td>2.000000</td>\n      <td>-1.000000</td>\n      <td>-1.000000</td>\n      <td>23.000000</td>\n      <td>0.00000</td>\n      <td>...</td>\n      <td>0.0</td>\n      <td>0.0</td>\n      <td>0.0</td>\n      <td>0.000000</td>\n      <td>3.000000</td>\n      <td>-1.000000</td>\n      <td>2.000000</td>\n      <td>0.000000</td>\n      <td>0.000000</td>\n      <td>0.0</td>\n    </tr>\n    <tr>\n      <th>50%</th>\n      <td>7.000000</td>\n      <td>10.000000</td>\n      <td>1.000000</td>\n      <td>10.000000</td>\n      <td>1.000000</td>\n      <td>4.000000</td>\n      <td>-1.000000</td>\n      <td>-1.000000</td>\n      <td>27.000000</td>\n      <td>0.00000</td>\n      <td>...</td>\n      <td>0.0</td>\n      <td>0.0</td>\n      <td>0.0</td>\n      <td>0.000000</td>\n      <td>3.000000</td>\n      <td>-1.000000</td>\n      <td>3.000000</td>\n      <td>0.000000</td>\n      <td>0.000000</td>\n      <td>0.0</td>\n    </tr>\n    <tr>\n      <th>75%</th>\n      <td>15.000000</td>\n      <td>51.000000</td>\n      <td>4.000000</td>\n      <td>197.000000</td>\n      <td>14.000000</td>\n      <td>24.000000</td>\n      <td>-1.000000</td>\n      <td>-1.000000</td>\n      <td>37.000000</td>\n      <td>0.00000</td>\n      <td>...</td>\n      <td>0.0</td>\n      <td>0.0</td>\n      <td>0.0</td>\n      <td>7.000000</td>\n      <td>4.000000</td>\n      <td>0.000000</td>\n      <td>3.000000</td>\n      <td>5.000000</td>\n      <td>4.000000</td>\n      <td>0.0</td>\n    </tr>\n    <tr>\n      <th>max</th>\n      <td>110.000000</td>\n      <td>213.000000</td>\n      <td>70.000000</td>\n      <td>9342.000000</td>\n      <td>193.000000</td>\n      <td>161.000000</td>\n      <td>1761.000000</td>\n      <td>53.000000</td>\n      <td>2299.000000</td>\n      <td>2262.00000</td>\n      <td>...</td>\n      <td>0.0</td>\n      <td>0.0</td>\n      <td>0.0</td>\n      <td>401.000000</td>\n      <td>6.000000</td>\n      <td>1.000000</td>\n      <td>10.000000</td>\n      <td>3035.000000</td>\n      <td>534.000000</td>\n      <td>0.0</td>\n    </tr>\n  </tbody>\n</table>\n<p>8 rows × 29 columns</p>\n</div>"
     },
     "execution_count": 106,
     "metadata": {},
     "output_type": "execute_result"
    }
   ],
   "source": [
    "stats_legit = all_df_ml_ready_legit.describe()\n",
    "stats_legit"
   ]
  },
  {
   "cell_type": "code",
   "execution_count": 107,
   "metadata": {
    "ExecuteTime": {
     "start_time": "2023-06-14T23:17:47.709048Z",
     "end_time": "2023-06-14T23:17:47.744763Z"
    },
    "collapsed": false
   },
   "outputs": [],
   "source": [
    "### histogramy, podział na legit i illegit"
   ]
  },
  {
   "cell_type": "code",
   "execution_count": 108,
   "metadata": {
    "ExecuteTime": {
     "start_time": "2023-06-14T23:17:48.784505Z",
     "end_time": "2023-06-14T23:17:48.818679Z"
    },
    "collapsed": false
   },
   "outputs": [],
   "source": [
    "## Wyświetlanie histogramów dla każdej kolumny\n",
    "#for column in all_df_ml_ready_legit.columns:\n",
    "#    plt.figure()  # Tworzenie nowego wykresu dla każdej kolumny\n",
    "#    all_df_ml_ready_legit[column].hist(alpha=0.5, label='Legitimate', color='green')  # Zielone słupki dla danych \"all_df_ml_ready_legit\"\n",
    "#    all_df_ml_ready_illegit[column].hist(alpha=0.5, label='Illegitimate', color='red')  # Czerwone słupki dla danych \"all_df_ml_ready_illegit\"\n",
    "#    plt.title(column)  # Ustawienie tytułu wykresu jako nazwa kolumny\n",
    "#    plt.xlabel('Wartość')  # Etykieta osi x\n",
    "#    plt.ylabel('Liczność')  # Etykieta osi y\n",
    "#    plt.legend()  # Wyświetlenie legendy\n",
    "#    plt.show()  # Wyświetlenie wykresu\n"
   ]
  },
  {
   "cell_type": "markdown",
   "metadata": {
    "collapsed": false
   },
   "source": [
    "### Macierz korelacji dla danych legit i illegit"
   ]
  },
  {
   "cell_type": "code",
   "execution_count": 109,
   "metadata": {
    "ExecuteTime": {
     "start_time": "2023-06-14T23:17:49.694688Z",
     "end_time": "2023-06-14T23:17:49.745058Z"
    },
    "collapsed": false
   },
   "outputs": [],
   "source": [
    "#import pandas as pd\n",
    "#import seaborn as sns\n",
    "#import matplotlib.pyplot as plt\n",
    "#\n",
    "## Obliczanie macierzy korelacji dla danych \"all_df_ml_ready_legit\"\n",
    "#corr_legit = all_df_ml_ready_legit.corr()\n",
    "#\n",
    "## Wyświetlanie macierzy korelacji dla danych \"all_df_ml_ready_legit\"\n",
    "#plt.figure(figsize=(18, 16))\n",
    "#sns.heatmap(corr_legit, annot=True, cmap='coolwarm', linewidths=0.5, annot_kws={'fontsize': 8})\n",
    "#plt.title('Macierz korelacji - Legitimate', fontsize=10)\n",
    "#plt.xticks(fontsize=8)\n",
    "#plt.yticks(fontsize=8)\n",
    "#plt.show()\n",
    "#\n",
    "## Obliczanie macierzy korelacji dla danych \"all_df_ml_ready_illegit\"\n",
    "#corr_illegit = all_df_ml_ready_illegit.corr()\n",
    "#\n",
    "## Wyświetlanie macierzy korelacji dla danych \"all_df_ml_ready_illegit\"\n",
    "#plt.figure(figsize=(18, 16))\n",
    "#sns.heatmap(corr_illegit, annot=True, cmap='coolwarm', linewidths=0.5, annot_kws={'fontsize': 8})\n",
    "#plt.title('Macierz korelacji - Illegitimate', fontsize=10)\n",
    "#plt.xticks(fontsize=8)\n",
    "#plt.yticks(fontsize=8)\n",
    "#plt.show()\n",
    "#\n",
    "#\n",
    "## Wyświetlanie macierzy korelacji dla danych \"all_df_ml_ready\"\n",
    "#\n",
    "#corr_all = all_df_ml_ready.corr()\n",
    "#plt.figure(figsize=(18, 16))\n",
    "#sns.heatmap(corr_all, annot=True, cmap='coolwarm', linewidths=0.5, annot_kws={'fontsize': 8})\n",
    "#plt.title('Macierz korelacji - All', fontsize=10)\n",
    "#plt.xticks(fontsize=8)\n",
    "#plt.yticks(fontsize=8)\n",
    "#plt.show()\n"
   ]
  },
  {
   "cell_type": "code",
   "execution_count": 110,
   "metadata": {
    "ExecuteTime": {
     "start_time": "2023-06-14T23:17:50.244012Z",
     "end_time": "2023-06-14T23:17:50.283851Z"
    },
    "collapsed": false
   },
   "outputs": [
    {
     "data": {
      "text/plain": "      tld  registrar  registrant_country  domain_age  nameserver_domain  \\\n0       0          0                   0           5                  0   \n1       1          1                   1          89                  1   \n2       1          1                   1          89                  1   \n3       1          1                   1          89                  1   \n4       1          1                   1          89                  1   \n...   ...        ...                 ...         ...                ...   \n3430    1          1                   1        1421                  1   \n3431  149          7                   2        2567                  8   \n3432    1         10                  12        7487                  1   \n3433    1         12                   1        3503                  1   \n3434    1         24                   1       13263                275   \n\n      mail_domain  tls_age  tls_issuer  url_len  parameters_len  ...  \\\n0               0        5           0       21               0  ...   \n1               1       -1          -1       21               0  ...   \n2               1        7           2      197             154  ...   \n3               1        6           3      210             154  ...   \n4               1        6           2      206             154  ...   \n...           ...      ...         ...      ...             ...  ...   \n3430            1        3          55       30               0  ...   \n3431            7       11          63       79               0  ...   \n3432            8      101          61       61               0  ...   \n3433           10      165          61       81               0  ...   \n3434          178       41          76       30               0  ...   \n\n      opening_bracket_percent  closing_bracket_percent  comma_percent  \\\n0                           0                        0              0   \n1                           0                        0              0   \n2                           0                        0              0   \n3                           0                        0              0   \n4                           0                        0              0   \n...                       ...                      ...            ...   \n3430                        0                        0              0   \n3431                        0                        0              0   \n3432                        0                        0              0   \n3433                        0                        0              0   \n3434                        0                        0              0   \n\n      numbers_percent  url_entropy  is_redirect  subdomain_count  \\\n0                   0            3            1                2   \n1                   0            3            0                2   \n2                  60            4            1                2   \n3                  56            4            1                2   \n4                  64            4            1                2   \n...               ...          ...          ...              ...   \n3430                0            4            0                1   \n3431                0            4            0                1   \n3432               11            4            0                1   \n3433                0            4            0                1   \n3434                0            3            0                1   \n\n      content_link_count  content_img_count  label  \n0                     44                 17      0  \n1                      0                  0      0  \n2                      0                  0      0  \n3                      0                  0      0  \n4                      0                  0      0  \n...                  ...                ...    ...  \n3430                  43                 80      1  \n3431                   0                  0      1  \n3432                  19                346      1  \n3433                  -1                 -1      1  \n3434                   8                127      1  \n\n[14548 rows x 29 columns]",
      "text/html": "<div>\n<style scoped>\n    .dataframe tbody tr th:only-of-type {\n        vertical-align: middle;\n    }\n\n    .dataframe tbody tr th {\n        vertical-align: top;\n    }\n\n    .dataframe thead th {\n        text-align: right;\n    }\n</style>\n<table border=\"1\" class=\"dataframe\">\n  <thead>\n    <tr style=\"text-align: right;\">\n      <th></th>\n      <th>tld</th>\n      <th>registrar</th>\n      <th>registrant_country</th>\n      <th>domain_age</th>\n      <th>nameserver_domain</th>\n      <th>mail_domain</th>\n      <th>tls_age</th>\n      <th>tls_issuer</th>\n      <th>url_len</th>\n      <th>parameters_len</th>\n      <th>...</th>\n      <th>opening_bracket_percent</th>\n      <th>closing_bracket_percent</th>\n      <th>comma_percent</th>\n      <th>numbers_percent</th>\n      <th>url_entropy</th>\n      <th>is_redirect</th>\n      <th>subdomain_count</th>\n      <th>content_link_count</th>\n      <th>content_img_count</th>\n      <th>label</th>\n    </tr>\n  </thead>\n  <tbody>\n    <tr>\n      <th>0</th>\n      <td>0</td>\n      <td>0</td>\n      <td>0</td>\n      <td>5</td>\n      <td>0</td>\n      <td>0</td>\n      <td>5</td>\n      <td>0</td>\n      <td>21</td>\n      <td>0</td>\n      <td>...</td>\n      <td>0</td>\n      <td>0</td>\n      <td>0</td>\n      <td>0</td>\n      <td>3</td>\n      <td>1</td>\n      <td>2</td>\n      <td>44</td>\n      <td>17</td>\n      <td>0</td>\n    </tr>\n    <tr>\n      <th>1</th>\n      <td>1</td>\n      <td>1</td>\n      <td>1</td>\n      <td>89</td>\n      <td>1</td>\n      <td>1</td>\n      <td>-1</td>\n      <td>-1</td>\n      <td>21</td>\n      <td>0</td>\n      <td>...</td>\n      <td>0</td>\n      <td>0</td>\n      <td>0</td>\n      <td>0</td>\n      <td>3</td>\n      <td>0</td>\n      <td>2</td>\n      <td>0</td>\n      <td>0</td>\n      <td>0</td>\n    </tr>\n    <tr>\n      <th>2</th>\n      <td>1</td>\n      <td>1</td>\n      <td>1</td>\n      <td>89</td>\n      <td>1</td>\n      <td>1</td>\n      <td>7</td>\n      <td>2</td>\n      <td>197</td>\n      <td>154</td>\n      <td>...</td>\n      <td>0</td>\n      <td>0</td>\n      <td>0</td>\n      <td>60</td>\n      <td>4</td>\n      <td>1</td>\n      <td>2</td>\n      <td>0</td>\n      <td>0</td>\n      <td>0</td>\n    </tr>\n    <tr>\n      <th>3</th>\n      <td>1</td>\n      <td>1</td>\n      <td>1</td>\n      <td>89</td>\n      <td>1</td>\n      <td>1</td>\n      <td>6</td>\n      <td>3</td>\n      <td>210</td>\n      <td>154</td>\n      <td>...</td>\n      <td>0</td>\n      <td>0</td>\n      <td>0</td>\n      <td>56</td>\n      <td>4</td>\n      <td>1</td>\n      <td>2</td>\n      <td>0</td>\n      <td>0</td>\n      <td>0</td>\n    </tr>\n    <tr>\n      <th>4</th>\n      <td>1</td>\n      <td>1</td>\n      <td>1</td>\n      <td>89</td>\n      <td>1</td>\n      <td>1</td>\n      <td>6</td>\n      <td>2</td>\n      <td>206</td>\n      <td>154</td>\n      <td>...</td>\n      <td>0</td>\n      <td>0</td>\n      <td>0</td>\n      <td>64</td>\n      <td>4</td>\n      <td>1</td>\n      <td>2</td>\n      <td>0</td>\n      <td>0</td>\n      <td>0</td>\n    </tr>\n    <tr>\n      <th>...</th>\n      <td>...</td>\n      <td>...</td>\n      <td>...</td>\n      <td>...</td>\n      <td>...</td>\n      <td>...</td>\n      <td>...</td>\n      <td>...</td>\n      <td>...</td>\n      <td>...</td>\n      <td>...</td>\n      <td>...</td>\n      <td>...</td>\n      <td>...</td>\n      <td>...</td>\n      <td>...</td>\n      <td>...</td>\n      <td>...</td>\n      <td>...</td>\n      <td>...</td>\n      <td>...</td>\n    </tr>\n    <tr>\n      <th>3430</th>\n      <td>1</td>\n      <td>1</td>\n      <td>1</td>\n      <td>1421</td>\n      <td>1</td>\n      <td>1</td>\n      <td>3</td>\n      <td>55</td>\n      <td>30</td>\n      <td>0</td>\n      <td>...</td>\n      <td>0</td>\n      <td>0</td>\n      <td>0</td>\n      <td>0</td>\n      <td>4</td>\n      <td>0</td>\n      <td>1</td>\n      <td>43</td>\n      <td>80</td>\n      <td>1</td>\n    </tr>\n    <tr>\n      <th>3431</th>\n      <td>149</td>\n      <td>7</td>\n      <td>2</td>\n      <td>2567</td>\n      <td>8</td>\n      <td>7</td>\n      <td>11</td>\n      <td>63</td>\n      <td>79</td>\n      <td>0</td>\n      <td>...</td>\n      <td>0</td>\n      <td>0</td>\n      <td>0</td>\n      <td>0</td>\n      <td>4</td>\n      <td>0</td>\n      <td>1</td>\n      <td>0</td>\n      <td>0</td>\n      <td>1</td>\n    </tr>\n    <tr>\n      <th>3432</th>\n      <td>1</td>\n      <td>10</td>\n      <td>12</td>\n      <td>7487</td>\n      <td>1</td>\n      <td>8</td>\n      <td>101</td>\n      <td>61</td>\n      <td>61</td>\n      <td>0</td>\n      <td>...</td>\n      <td>0</td>\n      <td>0</td>\n      <td>0</td>\n      <td>11</td>\n      <td>4</td>\n      <td>0</td>\n      <td>1</td>\n      <td>19</td>\n      <td>346</td>\n      <td>1</td>\n    </tr>\n    <tr>\n      <th>3433</th>\n      <td>1</td>\n      <td>12</td>\n      <td>1</td>\n      <td>3503</td>\n      <td>1</td>\n      <td>10</td>\n      <td>165</td>\n      <td>61</td>\n      <td>81</td>\n      <td>0</td>\n      <td>...</td>\n      <td>0</td>\n      <td>0</td>\n      <td>0</td>\n      <td>0</td>\n      <td>4</td>\n      <td>0</td>\n      <td>1</td>\n      <td>-1</td>\n      <td>-1</td>\n      <td>1</td>\n    </tr>\n    <tr>\n      <th>3434</th>\n      <td>1</td>\n      <td>24</td>\n      <td>1</td>\n      <td>13263</td>\n      <td>275</td>\n      <td>178</td>\n      <td>41</td>\n      <td>76</td>\n      <td>30</td>\n      <td>0</td>\n      <td>...</td>\n      <td>0</td>\n      <td>0</td>\n      <td>0</td>\n      <td>0</td>\n      <td>3</td>\n      <td>0</td>\n      <td>1</td>\n      <td>8</td>\n      <td>127</td>\n      <td>1</td>\n    </tr>\n  </tbody>\n</table>\n<p>14548 rows × 29 columns</p>\n</div>"
     },
     "execution_count": 110,
     "metadata": {},
     "output_type": "execute_result"
    }
   ],
   "source": [
    "all_df_ml_ready"
   ]
  },
  {
   "cell_type": "code",
   "execution_count": 111,
   "metadata": {
    "ExecuteTime": {
     "start_time": "2023-06-14T23:17:51.206611Z",
     "end_time": "2023-06-14T23:17:51.257717Z"
    }
   },
   "outputs": [],
   "source": [
    "def train(df, fraction):\n",
    "    features = df.drop(columns=['label'])\n",
    "    classes = df['label']\n",
    "\n",
    "    # Split the data into training and testing datasets\n",
    "    features_train, features_test, classes_train, classes_test = train_test_split(features, classes, test_size=fraction, random_state=1234)\n",
    "    \n",
    "    models = []\n",
    "    \n",
    "    for model_name in AVAILABLE_MODELS:\n",
    "        prediction_model = AVAILABLE_MODELS[model_name]\n",
    "        predictions, model = build_model_return_predictions(prediction_model, features_train, classes_train, features_test)\n",
    "        metrics = calculate_metrics(classes_test, predictions)\n",
    "        print(model_name)\n",
    "        print(metrics)\n",
    "        models.append(model)\n",
    "    return models"
   ]
  },
  {
   "cell_type": "code",
   "execution_count": 112,
   "metadata": {
    "ExecuteTime": {
     "start_time": "2023-06-14T23:17:51.949208Z",
     "end_time": "2023-06-14T23:18:01.620357Z"
    }
   },
   "outputs": [
    {
     "name": "stdout",
     "output_type": "stream",
     "text": [
      "DECISION_TREE\n",
      "{'accuracy': 1.0, 'precision': 1.0, 'recall': 1.0, 'f1_score': 1.0}\n",
      "RANDOM_FOREST\n",
      "{'accuracy': 1.0, 'precision': 1.0, 'recall': 1.0, 'f1_score': 1.0}\n",
      "NEURAL_NETWORK\n",
      "{'accuracy': 0.981672394043528, 'precision': 0.9304192685102587, 'recall': 0.9980861244019139, 'f1_score': 0.9630655586334257}\n",
      "K_NEIGHBORS\n",
      "{'accuracy': 0.9876288659793815, 'precision': 0.9834146341463414, 'recall': 0.9645933014354067, 'f1_score': 0.9739130434782609}\n",
      "SUPPORT_VECTOR_MACHINE\n",
      "{'accuracy': 0.9292096219931272, 'precision': 0.8717171717171717, 'recall': 0.8258373205741627, 'f1_score': 0.8481572481572482}\n",
      "ADABOOST\n",
      "{'accuracy': 1.0, 'precision': 1.0, 'recall': 1.0, 'f1_score': 1.0}\n",
      "NAIVE_BAYES\n",
      "{'accuracy': 0.9903780068728523, 'precision': 0.9665116279069768, 'recall': 0.9942583732057416, 'f1_score': 0.980188679245283}\n",
      "QUADRATIC_DISCRIMINANT_ANALYSIS\n",
      "{'accuracy': 0.9963344788087056, 'precision': 0.990467111534795, 'recall': 0.9942583732057416, 'f1_score': 0.9923591212989494}\n"
     ]
    },
    {
     "name": "stderr",
     "output_type": "stream",
     "text": [
      "/home/shaggy17goo/.virtualenvs/ADAC_proj/lib/python3.8/site-packages/sklearn/discriminant_analysis.py:926: UserWarning: Variables are collinear\n",
      "  warnings.warn(\"Variables are collinear\")\n"
     ]
    },
    {
     "data": {
      "text/plain": "[DecisionTreeClassifier(),\n RandomForestClassifier(),\n MLPClassifier(max_iter=1000),\n KNeighborsClassifier(),\n SVC(),\n AdaBoostClassifier(learning_rate=0.55),\n GaussianNB(),\n QuadraticDiscriminantAnalysis()]"
     },
     "execution_count": 112,
     "metadata": {},
     "output_type": "execute_result"
    }
   ],
   "source": [
    "train(all_df_ml_ready, 0.3)"
   ]
  },
  {
   "cell_type": "markdown",
   "metadata": {
    "collapsed": false
   },
   "source": [
    "# TODO chłopaki\n",
    "modele się mega przeuczają, trzeba sprawdzić przez jaki parametr tak jest, może obciąć zbiór wejściowy z jakiś gówno danych. Jak dane będą przefiltrowane i wciąż się będzie przeuczał to dropujecie kolumny sprawdzając czy jak ich nie ma to jest dużo gorzej, powinniście znaleźć jedną/parę po których usunięciu model stanie się gównem - o to chodzi"
   ]
  },
  {
   "cell_type": "code",
   "execution_count": 113,
   "metadata": {
    "ExecuteTime": {
     "start_time": "2023-06-14T23:18:01.620357Z",
     "end_time": "2023-06-14T23:18:01.695771Z"
    }
   },
   "outputs": [],
   "source": [
    "# deleting data where tls_issuer (and other data from whois) iquils to nan\n",
    "\n",
    "all_df_ml_removed_nan_whois = all_df_ml_ready[all_df_ml_ready['tls_issuer'].notna()]"
   ]
  },
  {
   "cell_type": "code",
   "execution_count": 114,
   "metadata": {
    "ExecuteTime": {
     "start_time": "2023-06-14T23:18:01.646949Z",
     "end_time": "2023-06-14T23:18:13.382885Z"
    }
   },
   "outputs": [
    {
     "name": "stdout",
     "output_type": "stream",
     "text": [
      "DECISION_TREE\n",
      "{'accuracy': 1.0, 'precision': 1.0, 'recall': 1.0, 'f1_score': 1.0}\n",
      "RANDOM_FOREST\n",
      "{'accuracy': 1.0, 'precision': 1.0, 'recall': 1.0, 'f1_score': 1.0}\n",
      "NEURAL_NETWORK\n",
      "{'accuracy': 0.9942726231386025, 'precision': 0.989443378119002, 'recall': 0.9866028708133971, 'f1_score': 0.9880210828941064}\n",
      "K_NEIGHBORS\n",
      "{'accuracy': 0.9876288659793815, 'precision': 0.9834146341463414, 'recall': 0.9645933014354067, 'f1_score': 0.9739130434782609}\n",
      "SUPPORT_VECTOR_MACHINE\n",
      "{'accuracy': 0.9292096219931272, 'precision': 0.8717171717171717, 'recall': 0.8258373205741627, 'f1_score': 0.8481572481572482}\n",
      "ADABOOST\n",
      "{'accuracy': 1.0, 'precision': 1.0, 'recall': 1.0, 'f1_score': 1.0}\n",
      "NAIVE_BAYES\n",
      "{'accuracy': 0.9903780068728523, 'precision': 0.9665116279069768, 'recall': 0.9942583732057416, 'f1_score': 0.980188679245283}\n",
      "QUADRATIC_DISCRIMINANT_ANALYSIS\n",
      "{'accuracy': 0.9963344788087056, 'precision': 0.990467111534795, 'recall': 0.9942583732057416, 'f1_score': 0.9923591212989494}\n"
     ]
    },
    {
     "name": "stderr",
     "output_type": "stream",
     "text": [
      "/home/shaggy17goo/.virtualenvs/ADAC_proj/lib/python3.8/site-packages/sklearn/discriminant_analysis.py:926: UserWarning: Variables are collinear\n",
      "  warnings.warn(\"Variables are collinear\")\n"
     ]
    },
    {
     "data": {
      "text/plain": "[DecisionTreeClassifier(),\n RandomForestClassifier(),\n MLPClassifier(max_iter=1000),\n KNeighborsClassifier(),\n SVC(),\n AdaBoostClassifier(learning_rate=0.55),\n GaussianNB(),\n QuadraticDiscriminantAnalysis()]"
     },
     "execution_count": 114,
     "metadata": {},
     "output_type": "execute_result"
    }
   ],
   "source": [
    "train(all_df_ml_removed_nan_whois, 0.3)"
   ]
  },
  {
   "attachments": {},
   "cell_type": "markdown",
   "metadata": {},
   "source": [
    "## VarianceThreshold"
   ]
  },
  {
   "cell_type": "code",
   "execution_count": 116,
   "metadata": {
    "ExecuteTime": {
     "start_time": "2023-06-14T23:18:52.318667Z",
     "end_time": "2023-06-14T23:19:00.765813Z"
    }
   },
   "outputs": [
    {
     "name": "stderr",
     "output_type": "stream",
     "text": [
      "/tmp/ipykernel_205/3321333418.py:18: SettingWithCopyWarning: \n",
      "A value is trying to be set on a copy of a slice from a DataFrame.\n",
      "Try using .loc[row_indexer,col_indexer] = value instead\n",
      "\n",
      "See the caveats in the documentation: https://pandas.pydata.org/pandas-docs/stable/user_guide/indexing.html#returning-a-view-versus-a-copy\n",
      "  df_selected['label'] = all_df_ml_removed_nan_whois['label']\n"
     ]
    },
    {
     "name": "stdout",
     "output_type": "stream",
     "text": [
      "DECISION_TREE\n",
      "{'accuracy': 1.0, 'precision': 1.0, 'recall': 1.0, 'f1_score': 1.0}\n",
      "RANDOM_FOREST\n",
      "{'accuracy': 1.0, 'precision': 1.0, 'recall': 1.0, 'f1_score': 1.0}\n",
      "NEURAL_NETWORK\n",
      "{'accuracy': 0.9894616265750287, 'precision': 0.9854227405247813, 'recall': 0.970334928229665, 'f1_score': 0.9778206364513019}\n",
      "K_NEIGHBORS\n",
      "{'accuracy': 0.9876288659793815, 'precision': 0.9834146341463414, 'recall': 0.9645933014354067, 'f1_score': 0.9739130434782609}\n",
      "SUPPORT_VECTOR_MACHINE\n",
      "{'accuracy': 0.929667812142039, 'precision': 0.8719758064516129, 'recall': 0.8277511961722488, 'f1_score': 0.8492881688757976}\n",
      "ADABOOST\n",
      "{'accuracy': 1.0, 'precision': 1.0, 'recall': 1.0, 'f1_score': 1.0}\n",
      "NAIVE_BAYES\n",
      "{'accuracy': 0.9903780068728523, 'precision': 0.9665116279069768, 'recall': 0.9942583732057416, 'f1_score': 0.980188679245283}\n",
      "QUADRATIC_DISCRIMINANT_ANALYSIS\n",
      "{'accuracy': 0.9917525773195877, 'precision': 0.9719363891487371, 'recall': 0.9942583732057416, 'f1_score': 0.9829706717123935}\n"
     ]
    },
    {
     "data": {
      "text/plain": "[DecisionTreeClassifier(),\n RandomForestClassifier(),\n MLPClassifier(max_iter=1000),\n KNeighborsClassifier(),\n SVC(),\n AdaBoostClassifier(learning_rate=0.55),\n GaussianNB(),\n QuadraticDiscriminantAnalysis()]"
     },
     "execution_count": 116,
     "metadata": {},
     "output_type": "execute_result"
    }
   ],
   "source": [
    "from sklearn.feature_selection import VarianceThreshold\n",
    "import numpy as np\n",
    "\n",
    "# Convert DataFrame to a NumPy array\n",
    "X = all_df_ml_removed_nan_whois.values\n",
    "\n",
    "# Create VarianceThreshold object\n",
    "selector = VarianceThreshold(threshold=0.2)  # Set the threshold as desired\n",
    "\n",
    "# Fit the selector to the data\n",
    "selector.fit(X)\n",
    "\n",
    "# Get the selected feature indices\n",
    "selected_indices = selector.get_support(indices=True)\n",
    "\n",
    "# Subset the DataFrame with the selected features\n",
    "df_selected = all_df_ml_removed_nan_whois.iloc[:, selected_indices]\n",
    "df_selected['label'] = all_df_ml_removed_nan_whois['label']\n",
    "\n",
    "train(df_selected, 0.3)"
   ]
  },
  {
   "cell_type": "code",
   "execution_count": 117,
   "outputs": [
    {
     "name": "stdout",
     "output_type": "stream",
     "text": [
      "tld\n",
      "registrar\n",
      "registrant_country\n",
      "nameserver_domain\n",
      "mail_domain\n",
      "tls_issuer\n",
      "is_redirect\n",
      "label\n"
     ]
    }
   ],
   "source": [
    "for col in all_df_ml_removed_nan_whois.columns:\n",
    "    if all_df_ml[col].dtype == object:\n",
    "        print(col)\n"
   ],
   "metadata": {
    "collapsed": false,
    "ExecuteTime": {
     "start_time": "2023-06-14T23:19:06.937403Z",
     "end_time": "2023-06-14T23:19:06.954263Z"
    }
   }
  },
  {
   "cell_type": "code",
   "execution_count": 117,
   "outputs": [],
   "source": [
    "\n"
   ],
   "metadata": {
    "collapsed": false,
    "ExecuteTime": {
     "start_time": "2023-06-14T23:19:10.188580Z",
     "end_time": "2023-06-14T23:19:10.198026Z"
    }
   }
  },
  {
   "attachments": {},
   "cell_type": "markdown",
   "metadata": {},
   "source": [
    "## VIF"
   ]
  },
  {
   "cell_type": "code",
   "execution_count": 118,
   "metadata": {
    "ExecuteTime": {
     "start_time": "2023-06-14T23:19:12.167040Z",
     "end_time": "2023-06-14T23:19:28.584462Z"
    }
   },
   "outputs": [
    {
     "name": "stderr",
     "output_type": "stream",
     "text": [
      "/home/shaggy17goo/.virtualenvs/ADAC_proj/lib/python3.8/site-packages/statsmodels/regression/linear_model.py:1783: RuntimeWarning: invalid value encountered in scalar divide\n",
      "  return 1 - self.ssr/self.uncentered_tss\n"
     ]
    },
    {
     "name": "stdout",
     "output_type": "stream",
     "text": [
      "DECISION_TREE\n",
      "{'accuracy': 0.9988545246277205, 'precision': 0.997131931166348, 'recall': 0.9980861244019139, 'f1_score': 0.9976087996174079}\n",
      "RANDOM_FOREST\n",
      "{'accuracy': 0.9997709049255441, 'precision': 0.9990439770554493, 'recall': 1.0, 'f1_score': 0.9995217599234816}\n",
      "NEURAL_NETWORK\n",
      "{'accuracy': 0.9915234822451318, 'precision': 0.9931506849315068, 'recall': 0.9712918660287081, 'f1_score': 0.9820996613449444}\n",
      "K_NEIGHBORS\n",
      "{'accuracy': 0.9802978235967926, 'precision': 0.9696376101860921, 'recall': 0.9473684210526315, 'f1_score': 0.9583736689254598}\n",
      "SUPPORT_VECTOR_MACHINE\n",
      "{'accuracy': 0.8982817869415808, 'precision': 0.8305830583058306, 'recall': 0.722488038277512, 'f1_score': 0.7727737973387923}\n",
      "ADABOOST\n",
      "{'accuracy': 0.9997709049255441, 'precision': 0.9990439770554493, 'recall': 1.0, 'f1_score': 0.9995217599234816}\n",
      "NAIVE_BAYES\n",
      "{'accuracy': 0.9676975945017182, 'precision': 0.8837011884550084, 'recall': 0.9961722488038277, 'f1_score': 0.9365721997300944}\n",
      "QUADRATIC_DISCRIMINANT_ANALYSIS\n",
      "{'accuracy': 0.8895761741122565, 'precision': 0.6890530557421088, 'recall': 0.9818181818181818, 'f1_score': 0.8097868981846883}\n"
     ]
    },
    {
     "name": "stderr",
     "output_type": "stream",
     "text": [
      "/home/shaggy17goo/.virtualenvs/ADAC_proj/lib/python3.8/site-packages/sklearn/discriminant_analysis.py:926: UserWarning: Variables are collinear\n",
      "  warnings.warn(\"Variables are collinear\")\n"
     ]
    },
    {
     "data": {
      "text/plain": "[DecisionTreeClassifier(),\n RandomForestClassifier(),\n MLPClassifier(max_iter=1000),\n KNeighborsClassifier(),\n SVC(),\n AdaBoostClassifier(learning_rate=0.55),\n GaussianNB(),\n QuadraticDiscriminantAnalysis()]"
     },
     "execution_count": 118,
     "metadata": {},
     "output_type": "execute_result"
    }
   ],
   "source": [
    "from statsmodels.stats.outliers_influence import variance_inflation_factor\n",
    "\n",
    "threshold = 6  # Set the VIF threshold as desired\n",
    "\n",
    "# Calculate VIF for each feature\n",
    "vif = pd.DataFrame()\n",
    "vif[\"Feature\"] = all_df_ml_removed_nan_whois.columns\n",
    "vif[\"VIF\"] = [variance_inflation_factor(all_df_ml_removed_nan_whois.values, i) for i in range(all_df_ml_removed_nan_whois.shape[1])]\n",
    "\n",
    "# Get the column names that exceed the VIF threshold\n",
    "columns_to_drop = vif[vif['VIF'] > threshold]['Feature']\n",
    "\n",
    "# Drop the columns from the DataFrame\n",
    "df_filtered = all_df_ml_removed_nan_whois.drop(columns_to_drop, axis=1)\n",
    "df_filtered['label'] = all_df_ml_removed_nan_whois['label']\n",
    "\n",
    "train(df_filtered, 0.3)\n"
   ]
  },
  {
   "attachments": {},
   "cell_type": "markdown",
   "metadata": {},
   "source": [
    "## Covaration threshold"
   ]
  },
  {
   "cell_type": "code",
   "execution_count": 119,
   "metadata": {
    "collapsed": false,
    "ExecuteTime": {
     "start_time": "2023-06-14T23:19:35.059500Z",
     "end_time": "2023-06-14T23:19:35.151035Z"
    }
   },
   "outputs": [
    {
     "data": {
      "text/plain": "['domain_age',\n 'nameserver_domain',\n 'mail_domain',\n 'tls_age',\n 'tls_issuer',\n 'url_len',\n 'parameters_len',\n 'parameters_count',\n 'numbers_percent',\n 'url_entropy',\n 'is_redirect',\n 'subdomain_count',\n 'content_img_count']"
     },
     "execution_count": 119,
     "metadata": {},
     "output_type": "execute_result"
    }
   ],
   "source": [
    "# deleting features where covaration is above 0.7\n",
    "\n",
    "import numpy as np\n",
    "\n",
    "threshold = 0.2\n",
    "\n",
    "# do not drop labels :)\n",
    "corr_all_matrix = all_df_ml_removed_nan_whois.drop(columns=['label']).corr().abs()\n",
    "\n",
    "# Select upper triangle of correlation matrix\n",
    "upper = corr_all_matrix.where(np.triu(np.ones(corr_all_matrix.shape), k=1).astype(bool))\n",
    "\n",
    "# Find features with correlation greater than 0.95\n",
    "to_drop = [column for column in upper.columns if any(upper[column] > threshold)]\n",
    "\n",
    "\n",
    "# Drop features \n",
    "all_df_ml_removed_nan_whois_filtered_covariation = all_df_ml_removed_nan_whois.drop(to_drop, axis=1)\n",
    "\n",
    "to_drop"
   ]
  },
  {
   "cell_type": "code",
   "execution_count": 120,
   "metadata": {
    "ExecuteTime": {
     "start_time": "2023-06-14T23:19:37.889301Z",
     "end_time": "2023-06-14T23:19:53.906155Z"
    }
   },
   "outputs": [
    {
     "name": "stdout",
     "output_type": "stream",
     "text": [
      "DECISION_TREE\n",
      "{'accuracy': 0.9608247422680413, 'precision': 0.9405241935483871, 'recall': 0.8928229665071771, 'f1_score': 0.9160530191458027}\n",
      "RANDOM_FOREST\n",
      "{'accuracy': 0.9601374570446736, 'precision': 0.9257086999022482, 'recall': 0.9062200956937799, 'f1_score': 0.9158607350096711}\n",
      "NEURAL_NETWORK\n",
      "{'accuracy': 0.8710194730813288, 'precision': 0.7625272331154684, 'recall': 0.6698564593301436, 'f1_score': 0.7131940906775344}\n",
      "K_NEIGHBORS\n",
      "{'accuracy': 0.9241695303550974, 'precision': 0.8299445471349353, 'recall': 0.8593301435406698, 'f1_score': 0.8443817583450869}\n",
      "SUPPORT_VECTOR_MACHINE\n",
      "{'accuracy': 0.8016036655211913, 'precision': 0.92018779342723, 'recall': 0.1875598086124402, 'f1_score': 0.3116057233704293}\n",
      "ADABOOST\n",
      "{'accuracy': 0.9008018327605957, 'precision': 0.9421965317919075, 'recall': 0.6239234449760765, 'f1_score': 0.7507196315486471}\n",
      "NAIVE_BAYES\n",
      "{'accuracy': 0.7599083619702176, 'precision': 0.49774436090225566, 'recall': 0.3167464114832536, 'f1_score': 0.38713450292397666}\n",
      "QUADRATIC_DISCRIMINANT_ANALYSIS\n",
      "{'accuracy': 0.7605956471935853, 'precision': 0.0, 'recall': 0.0, 'f1_score': 0.0}\n"
     ]
    },
    {
     "name": "stderr",
     "output_type": "stream",
     "text": [
      "/home/shaggy17goo/.virtualenvs/ADAC_proj/lib/python3.8/site-packages/sklearn/discriminant_analysis.py:926: UserWarning: Variables are collinear\n",
      "  warnings.warn(\"Variables are collinear\")\n",
      "/home/shaggy17goo/.virtualenvs/ADAC_proj/lib/python3.8/site-packages/sklearn/discriminant_analysis.py:951: RuntimeWarning: divide by zero encountered in power\n",
      "  X2 = np.dot(Xm, R * (S ** (-0.5)))\n",
      "/home/shaggy17goo/.virtualenvs/ADAC_proj/lib/python3.8/site-packages/sklearn/discriminant_analysis.py:951: RuntimeWarning: invalid value encountered in multiply\n",
      "  X2 = np.dot(Xm, R * (S ** (-0.5)))\n",
      "/home/shaggy17goo/.virtualenvs/ADAC_proj/lib/python3.8/site-packages/sklearn/discriminant_analysis.py:954: RuntimeWarning: divide by zero encountered in log\n",
      "  u = np.asarray([np.sum(np.log(s)) for s in self.scalings_])\n",
      "/home/shaggy17goo/.virtualenvs/ADAC_proj/lib/python3.8/site-packages/sklearn/metrics/_classification.py:1344: UndefinedMetricWarning: Precision is ill-defined and being set to 0.0 due to no predicted samples. Use `zero_division` parameter to control this behavior.\n",
      "  _warn_prf(average, modifier, msg_start, len(result))\n"
     ]
    }
   ],
   "source": [
    "models = train(all_df_ml_removed_nan_whois_filtered_covariation, 0.3)"
   ]
  },
  {
   "cell_type": "code",
   "execution_count": 121,
   "metadata": {
    "ExecuteTime": {
     "start_time": "2023-06-14T23:20:03.915425Z",
     "end_time": "2023-06-14T23:20:03.936864Z"
    }
   },
   "outputs": [
    {
     "data": {
      "text/plain": "DecisionTreeClassifier()",
      "text/html": "<style>#sk-container-id-1 {color: black;background-color: white;}#sk-container-id-1 pre{padding: 0;}#sk-container-id-1 div.sk-toggleable {background-color: white;}#sk-container-id-1 label.sk-toggleable__label {cursor: pointer;display: block;width: 100%;margin-bottom: 0;padding: 0.3em;box-sizing: border-box;text-align: center;}#sk-container-id-1 label.sk-toggleable__label-arrow:before {content: \"▸\";float: left;margin-right: 0.25em;color: #696969;}#sk-container-id-1 label.sk-toggleable__label-arrow:hover:before {color: black;}#sk-container-id-1 div.sk-estimator:hover label.sk-toggleable__label-arrow:before {color: black;}#sk-container-id-1 div.sk-toggleable__content {max-height: 0;max-width: 0;overflow: hidden;text-align: left;background-color: #f0f8ff;}#sk-container-id-1 div.sk-toggleable__content pre {margin: 0.2em;color: black;border-radius: 0.25em;background-color: #f0f8ff;}#sk-container-id-1 input.sk-toggleable__control:checked~div.sk-toggleable__content {max-height: 200px;max-width: 100%;overflow: auto;}#sk-container-id-1 input.sk-toggleable__control:checked~label.sk-toggleable__label-arrow:before {content: \"▾\";}#sk-container-id-1 div.sk-estimator input.sk-toggleable__control:checked~label.sk-toggleable__label {background-color: #d4ebff;}#sk-container-id-1 div.sk-label input.sk-toggleable__control:checked~label.sk-toggleable__label {background-color: #d4ebff;}#sk-container-id-1 input.sk-hidden--visually {border: 0;clip: rect(1px 1px 1px 1px);clip: rect(1px, 1px, 1px, 1px);height: 1px;margin: -1px;overflow: hidden;padding: 0;position: absolute;width: 1px;}#sk-container-id-1 div.sk-estimator {font-family: monospace;background-color: #f0f8ff;border: 1px dotted black;border-radius: 0.25em;box-sizing: border-box;margin-bottom: 0.5em;}#sk-container-id-1 div.sk-estimator:hover {background-color: #d4ebff;}#sk-container-id-1 div.sk-parallel-item::after {content: \"\";width: 100%;border-bottom: 1px solid gray;flex-grow: 1;}#sk-container-id-1 div.sk-label:hover label.sk-toggleable__label {background-color: #d4ebff;}#sk-container-id-1 div.sk-serial::before {content: \"\";position: absolute;border-left: 1px solid gray;box-sizing: border-box;top: 0;bottom: 0;left: 50%;z-index: 0;}#sk-container-id-1 div.sk-serial {display: flex;flex-direction: column;align-items: center;background-color: white;padding-right: 0.2em;padding-left: 0.2em;position: relative;}#sk-container-id-1 div.sk-item {position: relative;z-index: 1;}#sk-container-id-1 div.sk-parallel {display: flex;align-items: stretch;justify-content: center;background-color: white;position: relative;}#sk-container-id-1 div.sk-item::before, #sk-container-id-1 div.sk-parallel-item::before {content: \"\";position: absolute;border-left: 1px solid gray;box-sizing: border-box;top: 0;bottom: 0;left: 50%;z-index: -1;}#sk-container-id-1 div.sk-parallel-item {display: flex;flex-direction: column;z-index: 1;position: relative;background-color: white;}#sk-container-id-1 div.sk-parallel-item:first-child::after {align-self: flex-end;width: 50%;}#sk-container-id-1 div.sk-parallel-item:last-child::after {align-self: flex-start;width: 50%;}#sk-container-id-1 div.sk-parallel-item:only-child::after {width: 0;}#sk-container-id-1 div.sk-dashed-wrapped {border: 1px dashed gray;margin: 0 0.4em 0.5em 0.4em;box-sizing: border-box;padding-bottom: 0.4em;background-color: white;}#sk-container-id-1 div.sk-label label {font-family: monospace;font-weight: bold;display: inline-block;line-height: 1.2em;}#sk-container-id-1 div.sk-label-container {text-align: center;}#sk-container-id-1 div.sk-container {/* jupyter's `normalize.less` sets `[hidden] { display: none; }` but bootstrap.min.css set `[hidden] { display: none !important; }` so we also need the `!important` here to be able to override the default hidden behavior on the sphinx rendered scikit-learn.org. See: https://github.com/scikit-learn/scikit-learn/issues/21755 */display: inline-block !important;position: relative;}#sk-container-id-1 div.sk-text-repr-fallback {display: none;}</style><div id=\"sk-container-id-1\" class=\"sk-top-container\"><div class=\"sk-text-repr-fallback\"><pre>DecisionTreeClassifier()</pre><b>In a Jupyter environment, please rerun this cell to show the HTML representation or trust the notebook. <br />On GitHub, the HTML representation is unable to render, please try loading this page with nbviewer.org.</b></div><div class=\"sk-container\" hidden><div class=\"sk-item\"><div class=\"sk-estimator sk-toggleable\"><input class=\"sk-toggleable__control sk-hidden--visually\" id=\"sk-estimator-id-1\" type=\"checkbox\" checked><label for=\"sk-estimator-id-1\" class=\"sk-toggleable__label sk-toggleable__label-arrow\">DecisionTreeClassifier</label><div class=\"sk-toggleable__content\"><pre>DecisionTreeClassifier()</pre></div></div></div></div></div>"
     },
     "execution_count": 121,
     "metadata": {},
     "output_type": "execute_result"
    }
   ],
   "source": [
    "models[0]"
   ]
  },
  {
   "cell_type": "code",
   "execution_count": 122,
   "metadata": {
    "ExecuteTime": {
     "start_time": "2023-06-14T23:20:06.790050Z",
     "end_time": "2023-06-14T23:20:06.800559Z"
    }
   },
   "outputs": [],
   "source": [
    "import pickle\n",
    "\n",
    "filename = 'finalized_model.sav'\n",
    "pickle.dump(models[0], open(filename, 'wb'))\n"
   ]
  },
  {
   "attachments": {},
   "cell_type": "markdown",
   "metadata": {},
   "source": [
    "## Normalize all features"
   ]
  },
  {
   "cell_type": "code",
   "execution_count": null,
   "metadata": {},
   "outputs": [],
   "source": [
    "# from sklearn.preprocessing import normalize\n",
    "\n",
    "# colum = all_df_ml_removed_nan_whois_filtered_covariation.drop(columns=['label']).columns\n",
    "\n",
    "\n",
    "# all_df_ml_ready_filtered_covariation_normalized = all_df_ml_removed_nan_whois_filtered_covariation.copy()\n",
    "\n",
    "# all_df_ml_ready_filtered_covariation_normalized[colum] = normalize(all_df_ml_removed_nan_whois_filtered_covariation[colum])\n",
    "\n",
    "# # all_df_ml_ready_filtered_covariation_normalized = all_df_ml_ready_filtered_covariation_normalized.drop(columns=['tls_issuer', 'tls_age', 'is_redirect'])\n",
    "\n",
    "\n",
    "# train(all_df_ml_ready_filtered_covariation_normalized, 0.3)\n"
   ]
  }
 ],
 "metadata": {
  "kernelspec": {
   "display_name": "Python 3 (ipykernel)",
   "language": "python",
   "name": "python3"
  },
  "language_info": {
   "codemirror_mode": {
    "name": "ipython",
    "version": 3
   },
   "file_extension": ".py",
   "mimetype": "text/x-python",
   "name": "python",
   "nbconvert_exporter": "python",
   "pygments_lexer": "ipython3",
   "version": "3.10.6"
  }
 },
 "nbformat": 4,
 "nbformat_minor": 0
}
